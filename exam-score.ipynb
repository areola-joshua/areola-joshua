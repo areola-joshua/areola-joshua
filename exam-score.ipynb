{
 "cells": [
  {
   "cell_type": "code",
   "execution_count": 1,
   "id": "b0b410cb",
   "metadata": {
    "_cell_guid": "b1076dfc-b9ad-4769-8c92-a6c4dae69d19",
    "_uuid": "8f2839f25d086af736a60e9eeb907d3b93b6e0e5",
    "execution": {
     "iopub.execute_input": "2022-03-14T13:07:30.046273Z",
     "iopub.status.busy": "2022-03-14T13:07:30.044907Z",
     "iopub.status.idle": "2022-03-14T13:07:30.069272Z",
     "shell.execute_reply": "2022-03-14T13:07:30.069904Z",
     "shell.execute_reply.started": "2022-03-14T13:03:52.064146Z"
    },
    "papermill": {
     "duration": 0.06398,
     "end_time": "2022-03-14T13:07:30.070178",
     "exception": false,
     "start_time": "2022-03-14T13:07:30.006198",
     "status": "completed"
    },
    "tags": []
   },
   "outputs": [
    {
     "name": "stdout",
     "output_type": "stream",
     "text": [
      "/kaggle/input/students-performance-in-exams/StudentsPerformance.csv\n",
      "/kaggle/input/healthy-lifestyle-cities-report-2021/healthy_lifestyle_city_2021.csv\n",
      "/kaggle/input/spotify-top-50-songs-in-2021/spotify_top50_2021.csv\n"
     ]
    }
   ],
   "source": [
    "# This Python 3 environment comes with many helpful analytics libraries installed\n",
    "# It is defined by the kaggle/python Docker image: https://github.com/kaggle/docker-python\n",
    "# For example, here's several helpful packages to load\n",
    "\n",
    "import numpy as np # linear algebra\n",
    "import pandas as pd # data processing, CSV file I/O (e.g. pd.read_csv)\n",
    "\n",
    "# Input data files are available in the read-only \"../input/\" directory\n",
    "# For example, running this (by clicking run or pressing Shift+Enter) will list all files under the input directory\n",
    "\n",
    "import os\n",
    "for dirname, _, filenames in os.walk('/kaggle/input'):\n",
    "    for filename in filenames:\n",
    "        print(os.path.join(dirname, filename))\n",
    "\n",
    "# You can write up to 20GB to the current directory (/kaggle/working/) that gets preserved as output when you create a version using \"Save & Run All\" \n",
    "# You can also write temporary files to /kaggle/temp/, but they won't be saved outside of the current session"
   ]
  },
  {
   "cell_type": "code",
   "execution_count": 2,
   "id": "4814ca4c",
   "metadata": {
    "execution": {
     "iopub.execute_input": "2022-03-14T13:07:30.138652Z",
     "iopub.status.busy": "2022-03-14T13:07:30.138014Z",
     "iopub.status.idle": "2022-03-14T13:07:30.176839Z",
     "shell.execute_reply": "2022-03-14T13:07:30.177331Z",
     "shell.execute_reply.started": "2022-03-14T13:03:52.089984Z"
    },
    "papermill": {
     "duration": 0.072873,
     "end_time": "2022-03-14T13:07:30.177491",
     "exception": false,
     "start_time": "2022-03-14T13:07:30.104618",
     "status": "completed"
    },
    "tags": []
   },
   "outputs": [
    {
     "data": {
      "text/html": [
       "<div>\n",
       "<style scoped>\n",
       "    .dataframe tbody tr th:only-of-type {\n",
       "        vertical-align: middle;\n",
       "    }\n",
       "\n",
       "    .dataframe tbody tr th {\n",
       "        vertical-align: top;\n",
       "    }\n",
       "\n",
       "    .dataframe thead th {\n",
       "        text-align: right;\n",
       "    }\n",
       "</style>\n",
       "<table border=\"1\" class=\"dataframe\">\n",
       "  <thead>\n",
       "    <tr style=\"text-align: right;\">\n",
       "      <th></th>\n",
       "      <th>gender</th>\n",
       "      <th>race/ethnicity</th>\n",
       "      <th>parental level of education</th>\n",
       "      <th>lunch</th>\n",
       "      <th>test preparation course</th>\n",
       "      <th>math score</th>\n",
       "      <th>reading score</th>\n",
       "      <th>writing score</th>\n",
       "    </tr>\n",
       "  </thead>\n",
       "  <tbody>\n",
       "    <tr>\n",
       "      <th>0</th>\n",
       "      <td>female</td>\n",
       "      <td>group B</td>\n",
       "      <td>bachelor's degree</td>\n",
       "      <td>standard</td>\n",
       "      <td>none</td>\n",
       "      <td>72</td>\n",
       "      <td>72</td>\n",
       "      <td>74</td>\n",
       "    </tr>\n",
       "    <tr>\n",
       "      <th>1</th>\n",
       "      <td>female</td>\n",
       "      <td>group C</td>\n",
       "      <td>some college</td>\n",
       "      <td>standard</td>\n",
       "      <td>completed</td>\n",
       "      <td>69</td>\n",
       "      <td>90</td>\n",
       "      <td>88</td>\n",
       "    </tr>\n",
       "    <tr>\n",
       "      <th>2</th>\n",
       "      <td>female</td>\n",
       "      <td>group B</td>\n",
       "      <td>master's degree</td>\n",
       "      <td>standard</td>\n",
       "      <td>none</td>\n",
       "      <td>90</td>\n",
       "      <td>95</td>\n",
       "      <td>93</td>\n",
       "    </tr>\n",
       "    <tr>\n",
       "      <th>3</th>\n",
       "      <td>male</td>\n",
       "      <td>group A</td>\n",
       "      <td>associate's degree</td>\n",
       "      <td>free/reduced</td>\n",
       "      <td>none</td>\n",
       "      <td>47</td>\n",
       "      <td>57</td>\n",
       "      <td>44</td>\n",
       "    </tr>\n",
       "    <tr>\n",
       "      <th>4</th>\n",
       "      <td>male</td>\n",
       "      <td>group C</td>\n",
       "      <td>some college</td>\n",
       "      <td>standard</td>\n",
       "      <td>none</td>\n",
       "      <td>76</td>\n",
       "      <td>78</td>\n",
       "      <td>75</td>\n",
       "    </tr>\n",
       "    <tr>\n",
       "      <th>...</th>\n",
       "      <td>...</td>\n",
       "      <td>...</td>\n",
       "      <td>...</td>\n",
       "      <td>...</td>\n",
       "      <td>...</td>\n",
       "      <td>...</td>\n",
       "      <td>...</td>\n",
       "      <td>...</td>\n",
       "    </tr>\n",
       "    <tr>\n",
       "      <th>995</th>\n",
       "      <td>female</td>\n",
       "      <td>group E</td>\n",
       "      <td>master's degree</td>\n",
       "      <td>standard</td>\n",
       "      <td>completed</td>\n",
       "      <td>88</td>\n",
       "      <td>99</td>\n",
       "      <td>95</td>\n",
       "    </tr>\n",
       "    <tr>\n",
       "      <th>996</th>\n",
       "      <td>male</td>\n",
       "      <td>group C</td>\n",
       "      <td>high school</td>\n",
       "      <td>free/reduced</td>\n",
       "      <td>none</td>\n",
       "      <td>62</td>\n",
       "      <td>55</td>\n",
       "      <td>55</td>\n",
       "    </tr>\n",
       "    <tr>\n",
       "      <th>997</th>\n",
       "      <td>female</td>\n",
       "      <td>group C</td>\n",
       "      <td>high school</td>\n",
       "      <td>free/reduced</td>\n",
       "      <td>completed</td>\n",
       "      <td>59</td>\n",
       "      <td>71</td>\n",
       "      <td>65</td>\n",
       "    </tr>\n",
       "    <tr>\n",
       "      <th>998</th>\n",
       "      <td>female</td>\n",
       "      <td>group D</td>\n",
       "      <td>some college</td>\n",
       "      <td>standard</td>\n",
       "      <td>completed</td>\n",
       "      <td>68</td>\n",
       "      <td>78</td>\n",
       "      <td>77</td>\n",
       "    </tr>\n",
       "    <tr>\n",
       "      <th>999</th>\n",
       "      <td>female</td>\n",
       "      <td>group D</td>\n",
       "      <td>some college</td>\n",
       "      <td>free/reduced</td>\n",
       "      <td>none</td>\n",
       "      <td>77</td>\n",
       "      <td>86</td>\n",
       "      <td>86</td>\n",
       "    </tr>\n",
       "  </tbody>\n",
       "</table>\n",
       "<p>1000 rows × 8 columns</p>\n",
       "</div>"
      ],
      "text/plain": [
       "     gender race/ethnicity parental level of education         lunch  \\\n",
       "0    female        group B           bachelor's degree      standard   \n",
       "1    female        group C                some college      standard   \n",
       "2    female        group B             master's degree      standard   \n",
       "3      male        group A          associate's degree  free/reduced   \n",
       "4      male        group C                some college      standard   \n",
       "..      ...            ...                         ...           ...   \n",
       "995  female        group E             master's degree      standard   \n",
       "996    male        group C                 high school  free/reduced   \n",
       "997  female        group C                 high school  free/reduced   \n",
       "998  female        group D                some college      standard   \n",
       "999  female        group D                some college  free/reduced   \n",
       "\n",
       "    test preparation course  math score  reading score  writing score  \n",
       "0                      none          72             72             74  \n",
       "1                 completed          69             90             88  \n",
       "2                      none          90             95             93  \n",
       "3                      none          47             57             44  \n",
       "4                      none          76             78             75  \n",
       "..                      ...         ...            ...            ...  \n",
       "995               completed          88             99             95  \n",
       "996                    none          62             55             55  \n",
       "997               completed          59             71             65  \n",
       "998               completed          68             78             77  \n",
       "999                    none          77             86             86  \n",
       "\n",
       "[1000 rows x 8 columns]"
      ]
     },
     "execution_count": 2,
     "metadata": {},
     "output_type": "execute_result"
    }
   ],
   "source": [
    "import numpy as np\n",
    "import pandas as pd\n",
    "\n",
    "\n",
    "\n",
    "data= pd.read_csv('/kaggle/input/students-performance-in-exams/StudentsPerformance.csv')\n",
    "data"
   ]
  },
  {
   "cell_type": "code",
   "execution_count": null,
   "id": "c99f5ae2",
   "metadata": {
    "papermill": {
     "duration": 0.030776,
     "end_time": "2022-03-14T13:07:30.240178",
     "exception": false,
     "start_time": "2022-03-14T13:07:30.209402",
     "status": "completed"
    },
    "tags": []
   },
   "outputs": [],
   "source": []
  },
  {
   "cell_type": "code",
   "execution_count": 3,
   "id": "b57af820",
   "metadata": {
    "execution": {
     "iopub.execute_input": "2022-03-14T13:07:30.309898Z",
     "iopub.status.busy": "2022-03-14T13:07:30.309160Z",
     "iopub.status.idle": "2022-03-14T13:07:30.312178Z",
     "shell.execute_reply": "2022-03-14T13:07:30.312686Z",
     "shell.execute_reply.started": "2022-03-14T13:03:52.273337Z"
    },
    "papermill": {
     "duration": 0.042062,
     "end_time": "2022-03-14T13:07:30.312836",
     "exception": false,
     "start_time": "2022-03-14T13:07:30.270774",
     "status": "completed"
    },
    "tags": []
   },
   "outputs": [
    {
     "data": {
      "text/plain": [
       "gender                         0\n",
       "race/ethnicity                 0\n",
       "parental level of education    0\n",
       "lunch                          0\n",
       "test preparation course        0\n",
       "math score                     0\n",
       "reading score                  0\n",
       "writing score                  0\n",
       "dtype: int64"
      ]
     },
     "execution_count": 3,
     "metadata": {},
     "output_type": "execute_result"
    }
   ],
   "source": [
    "data.isnull().sum()"
   ]
  },
  {
   "cell_type": "code",
   "execution_count": 4,
   "id": "210c2229",
   "metadata": {
    "execution": {
     "iopub.execute_input": "2022-03-14T13:07:30.399157Z",
     "iopub.status.busy": "2022-03-14T13:07:30.398238Z",
     "iopub.status.idle": "2022-03-14T13:07:30.402145Z",
     "shell.execute_reply": "2022-03-14T13:07:30.401580Z",
     "shell.execute_reply.started": "2022-03-14T13:03:52.288258Z"
    },
    "papermill": {
     "duration": 0.056978,
     "end_time": "2022-03-14T13:07:30.402291",
     "exception": false,
     "start_time": "2022-03-14T13:07:30.345313",
     "status": "completed"
    },
    "tags": []
   },
   "outputs": [
    {
     "data": {
      "text/html": [
       "<div>\n",
       "<style scoped>\n",
       "    .dataframe tbody tr th:only-of-type {\n",
       "        vertical-align: middle;\n",
       "    }\n",
       "\n",
       "    .dataframe tbody tr th {\n",
       "        vertical-align: top;\n",
       "    }\n",
       "\n",
       "    .dataframe thead th {\n",
       "        text-align: right;\n",
       "    }\n",
       "</style>\n",
       "<table border=\"1\" class=\"dataframe\">\n",
       "  <thead>\n",
       "    <tr style=\"text-align: right;\">\n",
       "      <th></th>\n",
       "      <th>gender</th>\n",
       "      <th>race/ethnicity</th>\n",
       "      <th>parental level of education</th>\n",
       "      <th>lunch</th>\n",
       "      <th>test preparation course</th>\n",
       "      <th>math score</th>\n",
       "      <th>reading score</th>\n",
       "      <th>writing score</th>\n",
       "      <th>math_score</th>\n",
       "    </tr>\n",
       "  </thead>\n",
       "  <tbody>\n",
       "    <tr>\n",
       "      <th>0</th>\n",
       "      <td>female</td>\n",
       "      <td>group B</td>\n",
       "      <td>bachelor's degree</td>\n",
       "      <td>standard</td>\n",
       "      <td>none</td>\n",
       "      <td>72</td>\n",
       "      <td>72</td>\n",
       "      <td>74</td>\n",
       "      <td>72</td>\n",
       "    </tr>\n",
       "    <tr>\n",
       "      <th>1</th>\n",
       "      <td>female</td>\n",
       "      <td>group C</td>\n",
       "      <td>some college</td>\n",
       "      <td>standard</td>\n",
       "      <td>completed</td>\n",
       "      <td>69</td>\n",
       "      <td>90</td>\n",
       "      <td>88</td>\n",
       "      <td>69</td>\n",
       "    </tr>\n",
       "    <tr>\n",
       "      <th>2</th>\n",
       "      <td>female</td>\n",
       "      <td>group B</td>\n",
       "      <td>master's degree</td>\n",
       "      <td>standard</td>\n",
       "      <td>none</td>\n",
       "      <td>90</td>\n",
       "      <td>95</td>\n",
       "      <td>93</td>\n",
       "      <td>90</td>\n",
       "    </tr>\n",
       "    <tr>\n",
       "      <th>3</th>\n",
       "      <td>male</td>\n",
       "      <td>group A</td>\n",
       "      <td>associate's degree</td>\n",
       "      <td>free/reduced</td>\n",
       "      <td>none</td>\n",
       "      <td>47</td>\n",
       "      <td>57</td>\n",
       "      <td>44</td>\n",
       "      <td>47</td>\n",
       "    </tr>\n",
       "    <tr>\n",
       "      <th>4</th>\n",
       "      <td>male</td>\n",
       "      <td>group C</td>\n",
       "      <td>some college</td>\n",
       "      <td>standard</td>\n",
       "      <td>none</td>\n",
       "      <td>76</td>\n",
       "      <td>78</td>\n",
       "      <td>75</td>\n",
       "      <td>76</td>\n",
       "    </tr>\n",
       "    <tr>\n",
       "      <th>...</th>\n",
       "      <td>...</td>\n",
       "      <td>...</td>\n",
       "      <td>...</td>\n",
       "      <td>...</td>\n",
       "      <td>...</td>\n",
       "      <td>...</td>\n",
       "      <td>...</td>\n",
       "      <td>...</td>\n",
       "      <td>...</td>\n",
       "    </tr>\n",
       "    <tr>\n",
       "      <th>995</th>\n",
       "      <td>female</td>\n",
       "      <td>group E</td>\n",
       "      <td>master's degree</td>\n",
       "      <td>standard</td>\n",
       "      <td>completed</td>\n",
       "      <td>88</td>\n",
       "      <td>99</td>\n",
       "      <td>95</td>\n",
       "      <td>88</td>\n",
       "    </tr>\n",
       "    <tr>\n",
       "      <th>996</th>\n",
       "      <td>male</td>\n",
       "      <td>group C</td>\n",
       "      <td>high school</td>\n",
       "      <td>free/reduced</td>\n",
       "      <td>none</td>\n",
       "      <td>62</td>\n",
       "      <td>55</td>\n",
       "      <td>55</td>\n",
       "      <td>62</td>\n",
       "    </tr>\n",
       "    <tr>\n",
       "      <th>997</th>\n",
       "      <td>female</td>\n",
       "      <td>group C</td>\n",
       "      <td>high school</td>\n",
       "      <td>free/reduced</td>\n",
       "      <td>completed</td>\n",
       "      <td>59</td>\n",
       "      <td>71</td>\n",
       "      <td>65</td>\n",
       "      <td>59</td>\n",
       "    </tr>\n",
       "    <tr>\n",
       "      <th>998</th>\n",
       "      <td>female</td>\n",
       "      <td>group D</td>\n",
       "      <td>some college</td>\n",
       "      <td>standard</td>\n",
       "      <td>completed</td>\n",
       "      <td>68</td>\n",
       "      <td>78</td>\n",
       "      <td>77</td>\n",
       "      <td>68</td>\n",
       "    </tr>\n",
       "    <tr>\n",
       "      <th>999</th>\n",
       "      <td>female</td>\n",
       "      <td>group D</td>\n",
       "      <td>some college</td>\n",
       "      <td>free/reduced</td>\n",
       "      <td>none</td>\n",
       "      <td>77</td>\n",
       "      <td>86</td>\n",
       "      <td>86</td>\n",
       "      <td>77</td>\n",
       "    </tr>\n",
       "  </tbody>\n",
       "</table>\n",
       "<p>1000 rows × 9 columns</p>\n",
       "</div>"
      ],
      "text/plain": [
       "     gender race/ethnicity parental level of education         lunch  \\\n",
       "0    female        group B           bachelor's degree      standard   \n",
       "1    female        group C                some college      standard   \n",
       "2    female        group B             master's degree      standard   \n",
       "3      male        group A          associate's degree  free/reduced   \n",
       "4      male        group C                some college      standard   \n",
       "..      ...            ...                         ...           ...   \n",
       "995  female        group E             master's degree      standard   \n",
       "996    male        group C                 high school  free/reduced   \n",
       "997  female        group C                 high school  free/reduced   \n",
       "998  female        group D                some college      standard   \n",
       "999  female        group D                some college  free/reduced   \n",
       "\n",
       "    test preparation course  math score  reading score  writing score  \\\n",
       "0                      none          72             72             74   \n",
       "1                 completed          69             90             88   \n",
       "2                      none          90             95             93   \n",
       "3                      none          47             57             44   \n",
       "4                      none          76             78             75   \n",
       "..                      ...         ...            ...            ...   \n",
       "995               completed          88             99             95   \n",
       "996                    none          62             55             55   \n",
       "997               completed          59             71             65   \n",
       "998               completed          68             78             77   \n",
       "999                    none          77             86             86   \n",
       "\n",
       "     math_score  \n",
       "0            72  \n",
       "1            69  \n",
       "2            90  \n",
       "3            47  \n",
       "4            76  \n",
       "..          ...  \n",
       "995          88  \n",
       "996          62  \n",
       "997          59  \n",
       "998          68  \n",
       "999          77  \n",
       "\n",
       "[1000 rows x 9 columns]"
      ]
     },
     "execution_count": 4,
     "metadata": {},
     "output_type": "execute_result"
    }
   ],
   "source": [
    "data['math_score']=data['math score']\n",
    "data"
   ]
  },
  {
   "cell_type": "code",
   "execution_count": null,
   "id": "a6344015",
   "metadata": {
    "papermill": {
     "duration": 0.032984,
     "end_time": "2022-03-14T13:07:30.468558",
     "exception": false,
     "start_time": "2022-03-14T13:07:30.435574",
     "status": "completed"
    },
    "tags": []
   },
   "outputs": [],
   "source": []
  },
  {
   "cell_type": "code",
   "execution_count": 5,
   "id": "88877d28",
   "metadata": {
    "execution": {
     "iopub.execute_input": "2022-03-14T13:07:30.542062Z",
     "iopub.status.busy": "2022-03-14T13:07:30.540249Z",
     "iopub.status.idle": "2022-03-14T13:07:30.546151Z",
     "shell.execute_reply": "2022-03-14T13:07:30.545479Z",
     "shell.execute_reply.started": "2022-03-14T13:03:52.314827Z"
    },
    "papermill": {
     "duration": 0.044635,
     "end_time": "2022-03-14T13:07:30.546288",
     "exception": false,
     "start_time": "2022-03-14T13:07:30.501653",
     "status": "completed"
    },
    "tags": []
   },
   "outputs": [],
   "source": [
    "data.drop(columns=['math score'],inplace=True)"
   ]
  },
  {
   "cell_type": "code",
   "execution_count": 6,
   "id": "b817edcd",
   "metadata": {
    "execution": {
     "iopub.execute_input": "2022-03-14T13:07:30.616585Z",
     "iopub.status.busy": "2022-03-14T13:07:30.615927Z",
     "iopub.status.idle": "2022-03-14T13:07:31.859608Z",
     "shell.execute_reply": "2022-03-14T13:07:31.859093Z",
     "shell.execute_reply.started": "2022-03-14T13:03:52.456659Z"
    },
    "papermill": {
     "duration": 1.280688,
     "end_time": "2022-03-14T13:07:31.859776",
     "exception": false,
     "start_time": "2022-03-14T13:07:30.579088",
     "status": "completed"
    },
    "tags": []
   },
   "outputs": [
    {
     "name": "stderr",
     "output_type": "stream",
     "text": [
      "/opt/conda/lib/python3.7/site-packages/seaborn/distributions.py:2619: FutureWarning: `distplot` is a deprecated function and will be removed in a future version. Please adapt your code to use either `displot` (a figure-level function with similar flexibility) or `histplot` (an axes-level function for histograms).\n",
      "  warnings.warn(msg, FutureWarning)\n"
     ]
    },
    {
     "data": {
      "text/plain": [
       "<AxesSubplot:xlabel='math_score', ylabel='Density'>"
      ]
     },
     "execution_count": 6,
     "metadata": {},
     "output_type": "execute_result"
    },
    {
     "data": {
      "image/png": "[encoded data removed]",
      "text/plain": [
       "<Figure size 432x288 with 1 Axes>"
      ]
     },
     "metadata": {
      "needs_background": "light"
     },
     "output_type": "display_data"
    }
   ],
   "source": [
    "import seaborn as sns\n",
    "sns.distplot(data.iloc[:,7])"
   ]
  },
  {
   "cell_type": "code",
   "execution_count": 7,
   "id": "4cdcb6f0",
   "metadata": {
    "execution": {
     "iopub.execute_input": "2022-03-14T13:07:31.932436Z",
     "iopub.status.busy": "2022-03-14T13:07:31.931858Z",
     "iopub.status.idle": "2022-03-14T13:07:31.937843Z",
     "shell.execute_reply": "2022-03-14T13:07:31.937256Z",
     "shell.execute_reply.started": "2022-03-14T13:03:52.740702Z"
    },
    "papermill": {
     "duration": 0.043231,
     "end_time": "2022-03-14T13:07:31.937968",
     "exception": false,
     "start_time": "2022-03-14T13:07:31.894737",
     "status": "completed"
    },
    "tags": []
   },
   "outputs": [
    {
     "data": {
      "text/plain": [
       "66.089"
      ]
     },
     "execution_count": 7,
     "metadata": {},
     "output_type": "execute_result"
    }
   ],
   "source": [
    "data.iloc[:,7].mean()"
   ]
  },
  {
   "cell_type": "code",
   "execution_count": 8,
   "id": "af7f4120",
   "metadata": {
    "execution": {
     "iopub.execute_input": "2022-03-14T13:07:32.011410Z",
     "iopub.status.busy": "2022-03-14T13:07:32.010823Z",
     "iopub.status.idle": "2022-03-14T13:07:32.015904Z",
     "shell.execute_reply": "2022-03-14T13:07:32.016457Z",
     "shell.execute_reply.started": "2022-03-14T13:03:52.748912Z"
    },
    "papermill": {
     "duration": 0.043591,
     "end_time": "2022-03-14T13:07:32.016620",
     "exception": false,
     "start_time": "2022-03-14T13:07:31.973029",
     "status": "completed"
    },
    "tags": []
   },
   "outputs": [
    {
     "data": {
      "text/plain": [
       "15.163080096009468"
      ]
     },
     "execution_count": 8,
     "metadata": {},
     "output_type": "execute_result"
    }
   ],
   "source": [
    "data.iloc[:,7].std()"
   ]
  },
  {
   "cell_type": "code",
   "execution_count": 9,
   "id": "2fcb6b19",
   "metadata": {
    "execution": {
     "iopub.execute_input": "2022-03-14T13:07:32.091617Z",
     "iopub.status.busy": "2022-03-14T13:07:32.090946Z",
     "iopub.status.idle": "2022-03-14T13:07:32.491019Z",
     "shell.execute_reply": "2022-03-14T13:07:32.490507Z",
     "shell.execute_reply.started": "2022-03-14T13:03:52.765186Z"
    },
    "papermill": {
     "duration": 0.438829,
     "end_time": "2022-03-14T13:07:32.491158",
     "exception": false,
     "start_time": "2022-03-14T13:07:32.052329",
     "status": "completed"
    },
    "tags": []
   },
   "outputs": [
    {
     "name": "stderr",
     "output_type": "stream",
     "text": [
      "/opt/conda/lib/python3.7/site-packages/seaborn/distributions.py:2619: FutureWarning: `distplot` is a deprecated function and will be removed in a future version. Please adapt your code to use either `displot` (a figure-level function with similar flexibility) or `histplot` (an axes-level function for histograms).\n",
      "  warnings.warn(msg, FutureWarning)\n"
     ]
    },
    {
     "data": {
      "text/plain": [
       "<AxesSubplot:xlabel='math_score', ylabel='Density'>"
      ]
     },
     "execution_count": 9,
     "metadata": {},
     "output_type": "execute_result"
    },
    {
     "data": {
      "image/png": "[encoded data removed]",
      "text/plain": [
       "<Figure size 432x288 with 1 Axes>"
      ]
     },
     "metadata": {
      "needs_background": "light"
     },
     "output_type": "display_data"
    }
   ],
   "source": [
    "from sklearn.preprocessing import StandardScaler\n",
    "s= StandardScaler()\n",
    "data['math_score']= s.fit_transform(data[['math_score']])\n",
    "sns.distplot(data.math_score)\n"
   ]
  },
  {
   "cell_type": "code",
   "execution_count": 10,
   "id": "01c0b28b",
   "metadata": {
    "execution": {
     "iopub.execute_input": "2022-03-14T13:07:32.573817Z",
     "iopub.status.busy": "2022-03-14T13:07:32.573159Z",
     "iopub.status.idle": "2022-03-14T13:07:32.576388Z",
     "shell.execute_reply": "2022-03-14T13:07:32.576824Z",
     "shell.execute_reply.started": "2022-03-14T13:03:53.271076Z"
    },
    "papermill": {
     "duration": 0.046669,
     "end_time": "2022-03-14T13:07:32.576974",
     "exception": false,
     "start_time": "2022-03-14T13:07:32.530305",
     "status": "completed"
    },
    "tags": []
   },
   "outputs": [
    {
     "data": {
      "text/plain": [
       "9.303668946358811e-17"
      ]
     },
     "execution_count": 10,
     "metadata": {},
     "output_type": "execute_result"
    }
   ],
   "source": [
    "data.iloc[:,7].mean()"
   ]
  },
  {
   "cell_type": "code",
   "execution_count": 11,
   "id": "f838be57",
   "metadata": {
    "execution": {
     "iopub.execute_input": "2022-03-14T13:07:32.658738Z",
     "iopub.status.busy": "2022-03-14T13:07:32.658140Z",
     "iopub.status.idle": "2022-03-14T13:07:32.662146Z",
     "shell.execute_reply": "2022-03-14T13:07:32.661504Z",
     "shell.execute_reply.started": "2022-03-14T13:03:53.282445Z"
    },
    "papermill": {
     "duration": 0.047045,
     "end_time": "2022-03-14T13:07:32.662271",
     "exception": false,
     "start_time": "2022-03-14T13:07:32.615226",
     "status": "completed"
    },
    "tags": []
   },
   "outputs": [
    {
     "data": {
      "text/plain": [
       "1.0005003753127728"
      ]
     },
     "execution_count": 11,
     "metadata": {},
     "output_type": "execute_result"
    }
   ],
   "source": [
    "data.iloc[:,7].std()"
   ]
  },
  {
   "cell_type": "code",
   "execution_count": 12,
   "id": "91497d8e",
   "metadata": {
    "execution": {
     "iopub.execute_input": "2022-03-14T13:07:32.741965Z",
     "iopub.status.busy": "2022-03-14T13:07:32.741378Z",
     "iopub.status.idle": "2022-03-14T13:07:33.023724Z",
     "shell.execute_reply": "2022-03-14T13:07:33.024229Z",
     "shell.execute_reply.started": "2022-03-14T13:03:53.297260Z"
    },
    "papermill": {
     "duration": 0.323973,
     "end_time": "2022-03-14T13:07:33.024393",
     "exception": false,
     "start_time": "2022-03-14T13:07:32.700420",
     "status": "completed"
    },
    "tags": []
   },
   "outputs": [
    {
     "name": "stderr",
     "output_type": "stream",
     "text": [
      "/opt/conda/lib/python3.7/site-packages/seaborn/distributions.py:2619: FutureWarning: `distplot` is a deprecated function and will be removed in a future version. Please adapt your code to use either `displot` (a figure-level function with similar flexibility) or `histplot` (an axes-level function for histograms).\n",
      "  warnings.warn(msg, FutureWarning)\n"
     ]
    },
    {
     "data": {
      "text/plain": [
       "<AxesSubplot:xlabel='math_score', ylabel='Density'>"
      ]
     },
     "execution_count": 12,
     "metadata": {},
     "output_type": "execute_result"
    },
    {
     "data": {
      "image/png": "[encoded data removed]",
      "text/plain": [
       "<Figure size 432x288 with 1 Axes>"
      ]
     },
     "metadata": {
      "needs_background": "light"
     },
     "output_type": "display_data"
    }
   ],
   "source": [
    "sns.distplot(data.math_score)"
   ]
  },
  {
   "cell_type": "code",
   "execution_count": 13,
   "id": "513d8f16",
   "metadata": {
    "execution": {
     "iopub.execute_input": "2022-03-14T13:07:33.130875Z",
     "iopub.status.busy": "2022-03-14T13:07:33.130188Z",
     "iopub.status.idle": "2022-03-14T13:07:33.395008Z",
     "shell.execute_reply": "2022-03-14T13:07:33.395464Z",
     "shell.execute_reply.started": "2022-03-14T13:03:53.616088Z"
    },
    "papermill": {
     "duration": 0.330666,
     "end_time": "2022-03-14T13:07:33.395638",
     "exception": false,
     "start_time": "2022-03-14T13:07:33.064972",
     "status": "completed"
    },
    "tags": []
   },
   "outputs": [
    {
     "name": "stderr",
     "output_type": "stream",
     "text": [
      "/opt/conda/lib/python3.7/site-packages/seaborn/distributions.py:2619: FutureWarning: `distplot` is a deprecated function and will be removed in a future version. Please adapt your code to use either `displot` (a figure-level function with similar flexibility) or `histplot` (an axes-level function for histograms).\n",
      "  warnings.warn(msg, FutureWarning)\n"
     ]
    },
    {
     "data": {
      "text/plain": [
       "<AxesSubplot:xlabel='math_score', ylabel='Density'>"
      ]
     },
     "execution_count": 13,
     "metadata": {},
     "output_type": "execute_result"
    },
    {
     "data": {
      "image/png": "[encoded data removed]",
      "text/plain": [
       "<Figure size 432x288 with 1 Axes>"
      ]
     },
     "metadata": {
      "needs_background": "light"
     },
     "output_type": "display_data"
    }
   ],
   "source": [
    "import seaborn as sns\n",
    "sns.distplot(data.iloc[:,7])"
   ]
  },
  {
   "cell_type": "code",
   "execution_count": 14,
   "id": "4f8a0941",
   "metadata": {
    "execution": {
     "iopub.execute_input": "2022-03-14T13:07:33.487169Z",
     "iopub.status.busy": "2022-03-14T13:07:33.486501Z",
     "iopub.status.idle": "2022-03-14T13:07:33.767019Z",
     "shell.execute_reply": "2022-03-14T13:07:33.767560Z",
     "shell.execute_reply.started": "2022-03-14T13:03:53.910575Z"
    },
    "papermill": {
     "duration": 0.330238,
     "end_time": "2022-03-14T13:07:33.767744",
     "exception": false,
     "start_time": "2022-03-14T13:07:33.437506",
     "status": "completed"
    },
    "tags": []
   },
   "outputs": [
    {
     "name": "stderr",
     "output_type": "stream",
     "text": [
      "/opt/conda/lib/python3.7/site-packages/seaborn/distributions.py:2619: FutureWarning: `distplot` is a deprecated function and will be removed in a future version. Please adapt your code to use either `displot` (a figure-level function with similar flexibility) or `histplot` (an axes-level function for histograms).\n",
      "  warnings.warn(msg, FutureWarning)\n"
     ]
    },
    {
     "data": {
      "text/plain": [
       "<AxesSubplot:xlabel='math_score', ylabel='Density'>"
      ]
     },
     "execution_count": 14,
     "metadata": {},
     "output_type": "execute_result"
    },
    {
     "data": {
      "image/png": "[encoded data removed]",
      "text/plain": [
       "<Figure size 432x288 with 1 Axes>"
      ]
     },
     "metadata": {
      "needs_background": "light"
     },
     "output_type": "display_data"
    }
   ],
   "source": [
    "from sklearn.preprocessing import PowerTransformer\n",
    "p= PowerTransformer()\n",
    "data['math_score']= p.fit_transform(data[['math_score']])\n",
    "sns.distplot(data.math_score)\n"
   ]
  },
  {
   "cell_type": "code",
   "execution_count": 15,
   "id": "af630078",
   "metadata": {
    "execution": {
     "iopub.execute_input": "2022-03-14T13:07:33.860595Z",
     "iopub.status.busy": "2022-03-14T13:07:33.859956Z",
     "iopub.status.idle": "2022-03-14T13:07:33.867261Z",
     "shell.execute_reply": "2022-03-14T13:07:33.867853Z",
     "shell.execute_reply.started": "2022-03-14T13:03:54.215268Z"
    },
    "papermill": {
     "duration": 0.055214,
     "end_time": "2022-03-14T13:07:33.868020",
     "exception": false,
     "start_time": "2022-03-14T13:07:33.812806",
     "status": "completed"
    },
    "tags": []
   },
   "outputs": [
    {
     "data": {
      "text/plain": [
       "<bound method Series.unique of 0      0.355096\n",
       "1      0.149656\n",
       "2      1.656185\n",
       "3     -1.237294\n",
       "4      0.634911\n",
       "         ...   \n",
       "995    1.506877\n",
       "996   -0.312114\n",
       "997   -0.502990\n",
       "998    0.082120\n",
       "999    0.705813\n",
       "Name: math_score, Length: 1000, dtype: float64>"
      ]
     },
     "execution_count": 15,
     "metadata": {},
     "output_type": "execute_result"
    }
   ],
   "source": [
    "data.iloc[:,7].unique"
   ]
  },
  {
   "cell_type": "code",
   "execution_count": 16,
   "id": "168761db",
   "metadata": {
    "execution": {
     "iopub.execute_input": "2022-03-14T13:07:33.961463Z",
     "iopub.status.busy": "2022-03-14T13:07:33.960487Z",
     "iopub.status.idle": "2022-03-14T13:07:33.964420Z",
     "shell.execute_reply": "2022-03-14T13:07:33.964995Z",
     "shell.execute_reply.started": "2022-03-14T13:03:54.224374Z"
    },
    "papermill": {
     "duration": 0.051866,
     "end_time": "2022-03-14T13:07:33.965160",
     "exception": false,
     "start_time": "2022-03-14T13:07:33.913294",
     "status": "completed"
    },
    "tags": []
   },
   "outputs": [],
   "source": [
    "nomi_col=[1,2,3]\n",
    "ordinal_col=[0,4]\n",
    "num_col=[5,6]"
   ]
  },
  {
   "cell_type": "code",
   "execution_count": 17,
   "id": "b3764e38",
   "metadata": {
    "execution": {
     "iopub.execute_input": "2022-03-14T13:07:34.057379Z",
     "iopub.status.busy": "2022-03-14T13:07:34.056429Z",
     "iopub.status.idle": "2022-03-14T13:07:34.071269Z",
     "shell.execute_reply": "2022-03-14T13:07:34.071735Z",
     "shell.execute_reply.started": "2022-03-14T13:03:54.237510Z"
    },
    "papermill": {
     "duration": 0.06249,
     "end_time": "2022-03-14T13:07:34.071906",
     "exception": false,
     "start_time": "2022-03-14T13:07:34.009416",
     "status": "completed"
    },
    "tags": []
   },
   "outputs": [
    {
     "data": {
      "text/html": [
       "<div>\n",
       "<style scoped>\n",
       "    .dataframe tbody tr th:only-of-type {\n",
       "        vertical-align: middle;\n",
       "    }\n",
       "\n",
       "    .dataframe tbody tr th {\n",
       "        vertical-align: top;\n",
       "    }\n",
       "\n",
       "    .dataframe thead th {\n",
       "        text-align: right;\n",
       "    }\n",
       "</style>\n",
       "<table border=\"1\" class=\"dataframe\">\n",
       "  <thead>\n",
       "    <tr style=\"text-align: right;\">\n",
       "      <th></th>\n",
       "      <th>gender</th>\n",
       "      <th>race/ethnicity</th>\n",
       "      <th>parental level of education</th>\n",
       "      <th>lunch</th>\n",
       "      <th>test preparation course</th>\n",
       "      <th>reading score</th>\n",
       "      <th>writing score</th>\n",
       "    </tr>\n",
       "  </thead>\n",
       "  <tbody>\n",
       "    <tr>\n",
       "      <th>0</th>\n",
       "      <td>female</td>\n",
       "      <td>group B</td>\n",
       "      <td>bachelor's degree</td>\n",
       "      <td>standard</td>\n",
       "      <td>none</td>\n",
       "      <td>72</td>\n",
       "      <td>74</td>\n",
       "    </tr>\n",
       "    <tr>\n",
       "      <th>1</th>\n",
       "      <td>female</td>\n",
       "      <td>group C</td>\n",
       "      <td>some college</td>\n",
       "      <td>standard</td>\n",
       "      <td>completed</td>\n",
       "      <td>90</td>\n",
       "      <td>88</td>\n",
       "    </tr>\n",
       "    <tr>\n",
       "      <th>2</th>\n",
       "      <td>female</td>\n",
       "      <td>group B</td>\n",
       "      <td>master's degree</td>\n",
       "      <td>standard</td>\n",
       "      <td>none</td>\n",
       "      <td>95</td>\n",
       "      <td>93</td>\n",
       "    </tr>\n",
       "    <tr>\n",
       "      <th>3</th>\n",
       "      <td>male</td>\n",
       "      <td>group A</td>\n",
       "      <td>associate's degree</td>\n",
       "      <td>free/reduced</td>\n",
       "      <td>none</td>\n",
       "      <td>57</td>\n",
       "      <td>44</td>\n",
       "    </tr>\n",
       "    <tr>\n",
       "      <th>4</th>\n",
       "      <td>male</td>\n",
       "      <td>group C</td>\n",
       "      <td>some college</td>\n",
       "      <td>standard</td>\n",
       "      <td>none</td>\n",
       "      <td>78</td>\n",
       "      <td>75</td>\n",
       "    </tr>\n",
       "    <tr>\n",
       "      <th>...</th>\n",
       "      <td>...</td>\n",
       "      <td>...</td>\n",
       "      <td>...</td>\n",
       "      <td>...</td>\n",
       "      <td>...</td>\n",
       "      <td>...</td>\n",
       "      <td>...</td>\n",
       "    </tr>\n",
       "    <tr>\n",
       "      <th>995</th>\n",
       "      <td>female</td>\n",
       "      <td>group E</td>\n",
       "      <td>master's degree</td>\n",
       "      <td>standard</td>\n",
       "      <td>completed</td>\n",
       "      <td>99</td>\n",
       "      <td>95</td>\n",
       "    </tr>\n",
       "    <tr>\n",
       "      <th>996</th>\n",
       "      <td>male</td>\n",
       "      <td>group C</td>\n",
       "      <td>high school</td>\n",
       "      <td>free/reduced</td>\n",
       "      <td>none</td>\n",
       "      <td>55</td>\n",
       "      <td>55</td>\n",
       "    </tr>\n",
       "    <tr>\n",
       "      <th>997</th>\n",
       "      <td>female</td>\n",
       "      <td>group C</td>\n",
       "      <td>high school</td>\n",
       "      <td>free/reduced</td>\n",
       "      <td>completed</td>\n",
       "      <td>71</td>\n",
       "      <td>65</td>\n",
       "    </tr>\n",
       "    <tr>\n",
       "      <th>998</th>\n",
       "      <td>female</td>\n",
       "      <td>group D</td>\n",
       "      <td>some college</td>\n",
       "      <td>standard</td>\n",
       "      <td>completed</td>\n",
       "      <td>78</td>\n",
       "      <td>77</td>\n",
       "    </tr>\n",
       "    <tr>\n",
       "      <th>999</th>\n",
       "      <td>female</td>\n",
       "      <td>group D</td>\n",
       "      <td>some college</td>\n",
       "      <td>free/reduced</td>\n",
       "      <td>none</td>\n",
       "      <td>86</td>\n",
       "      <td>86</td>\n",
       "    </tr>\n",
       "  </tbody>\n",
       "</table>\n",
       "<p>1000 rows × 7 columns</p>\n",
       "</div>"
      ],
      "text/plain": [
       "     gender race/ethnicity parental level of education         lunch  \\\n",
       "0    female        group B           bachelor's degree      standard   \n",
       "1    female        group C                some college      standard   \n",
       "2    female        group B             master's degree      standard   \n",
       "3      male        group A          associate's degree  free/reduced   \n",
       "4      male        group C                some college      standard   \n",
       "..      ...            ...                         ...           ...   \n",
       "995  female        group E             master's degree      standard   \n",
       "996    male        group C                 high school  free/reduced   \n",
       "997  female        group C                 high school  free/reduced   \n",
       "998  female        group D                some college      standard   \n",
       "999  female        group D                some college  free/reduced   \n",
       "\n",
       "    test preparation course  reading score  writing score  \n",
       "0                      none             72             74  \n",
       "1                 completed             90             88  \n",
       "2                      none             95             93  \n",
       "3                      none             57             44  \n",
       "4                      none             78             75  \n",
       "..                      ...            ...            ...  \n",
       "995               completed             99             95  \n",
       "996                    none             55             55  \n",
       "997               completed             71             65  \n",
       "998               completed             78             77  \n",
       "999                    none             86             86  \n",
       "\n",
       "[1000 rows x 7 columns]"
      ]
     },
     "execution_count": 17,
     "metadata": {},
     "output_type": "execute_result"
    }
   ],
   "source": [
    "x=data.iloc[:,0:7]\n",
    "x"
   ]
  },
  {
   "cell_type": "code",
   "execution_count": 18,
   "id": "326a91d5",
   "metadata": {
    "execution": {
     "iopub.execute_input": "2022-03-14T13:07:34.165538Z",
     "iopub.status.busy": "2022-03-14T13:07:34.164670Z",
     "iopub.status.idle": "2022-03-14T13:07:34.174958Z",
     "shell.execute_reply": "2022-03-14T13:07:34.175422Z",
     "shell.execute_reply.started": "2022-03-14T13:03:54.262902Z"
    },
    "papermill": {
     "duration": 0.058687,
     "end_time": "2022-03-14T13:07:34.175580",
     "exception": false,
     "start_time": "2022-03-14T13:07:34.116893",
     "status": "completed"
    },
    "tags": []
   },
   "outputs": [
    {
     "data": {
      "text/html": [
       "<div>\n",
       "<style scoped>\n",
       "    .dataframe tbody tr th:only-of-type {\n",
       "        vertical-align: middle;\n",
       "    }\n",
       "\n",
       "    .dataframe tbody tr th {\n",
       "        vertical-align: top;\n",
       "    }\n",
       "\n",
       "    .dataframe thead th {\n",
       "        text-align: right;\n",
       "    }\n",
       "</style>\n",
       "<table border=\"1\" class=\"dataframe\">\n",
       "  <thead>\n",
       "    <tr style=\"text-align: right;\">\n",
       "      <th></th>\n",
       "      <th>math_score</th>\n",
       "    </tr>\n",
       "  </thead>\n",
       "  <tbody>\n",
       "    <tr>\n",
       "      <th>0</th>\n",
       "      <td>0.355096</td>\n",
       "    </tr>\n",
       "    <tr>\n",
       "      <th>1</th>\n",
       "      <td>0.149656</td>\n",
       "    </tr>\n",
       "    <tr>\n",
       "      <th>2</th>\n",
       "      <td>1.656185</td>\n",
       "    </tr>\n",
       "    <tr>\n",
       "      <th>3</th>\n",
       "      <td>-1.237294</td>\n",
       "    </tr>\n",
       "    <tr>\n",
       "      <th>4</th>\n",
       "      <td>0.634911</td>\n",
       "    </tr>\n",
       "    <tr>\n",
       "      <th>...</th>\n",
       "      <td>...</td>\n",
       "    </tr>\n",
       "    <tr>\n",
       "      <th>995</th>\n",
       "      <td>1.506877</td>\n",
       "    </tr>\n",
       "    <tr>\n",
       "      <th>996</th>\n",
       "      <td>-0.312114</td>\n",
       "    </tr>\n",
       "    <tr>\n",
       "      <th>997</th>\n",
       "      <td>-0.502990</td>\n",
       "    </tr>\n",
       "    <tr>\n",
       "      <th>998</th>\n",
       "      <td>0.082120</td>\n",
       "    </tr>\n",
       "    <tr>\n",
       "      <th>999</th>\n",
       "      <td>0.705813</td>\n",
       "    </tr>\n",
       "  </tbody>\n",
       "</table>\n",
       "<p>1000 rows × 1 columns</p>\n",
       "</div>"
      ],
      "text/plain": [
       "     math_score\n",
       "0      0.355096\n",
       "1      0.149656\n",
       "2      1.656185\n",
       "3     -1.237294\n",
       "4      0.634911\n",
       "..          ...\n",
       "995    1.506877\n",
       "996   -0.312114\n",
       "997   -0.502990\n",
       "998    0.082120\n",
       "999    0.705813\n",
       "\n",
       "[1000 rows x 1 columns]"
      ]
     },
     "execution_count": 18,
     "metadata": {},
     "output_type": "execute_result"
    }
   ],
   "source": [
    "y=data[['math_score']]\n",
    "y"
   ]
  },
  {
   "cell_type": "code",
   "execution_count": 19,
   "id": "6db55d22",
   "metadata": {
    "execution": {
     "iopub.execute_input": "2022-03-14T13:07:34.271889Z",
     "iopub.status.busy": "2022-03-14T13:07:34.271234Z",
     "iopub.status.idle": "2022-03-14T13:07:34.292789Z",
     "shell.execute_reply": "2022-03-14T13:07:34.293572Z",
     "shell.execute_reply.started": "2022-03-14T13:03:54.277316Z"
    },
    "papermill": {
     "duration": 0.072884,
     "end_time": "2022-03-14T13:07:34.293834",
     "exception": false,
     "start_time": "2022-03-14T13:07:34.220950",
     "status": "completed"
    },
    "tags": []
   },
   "outputs": [
    {
     "data": {
      "text/html": [
       "<style>#sk-81079ffc-b20a-4c7b-8ca4-880bda5541ef {color: black;background-color: white;}#sk-81079ffc-b20a-4c7b-8ca4-880bda5541ef pre{padding: 0;}#sk-81079ffc-b20a-4c7b-8ca4-880bda5541ef div.sk-toggleable {background-color: white;}#sk-81079ffc-b20a-4c7b-8ca4-880bda5541ef label.sk-toggleable__label {cursor: pointer;display: block;width: 100%;margin-bottom: 0;padding: 0.3em;box-sizing: border-box;text-align: center;}#sk-81079ffc-b20a-4c7b-8ca4-880bda5541ef div.sk-toggleable__content {max-height: 0;max-width: 0;overflow: hidden;text-align: left;background-color: #f0f8ff;}#sk-81079ffc-b20a-4c7b-8ca4-880bda5541ef div.sk-toggleable__content pre {margin: 0.2em;color: black;border-radius: 0.25em;background-color: #f0f8ff;}#sk-81079ffc-b20a-4c7b-8ca4-880bda5541ef input.sk-toggleable__control:checked~div.sk-toggleable__content {max-height: 200px;max-width: 100%;overflow: auto;}#sk-81079ffc-b20a-4c7b-8ca4-880bda5541ef div.sk-estimator input.sk-toggleable__control:checked~label.sk-toggleable__label {background-color: #d4ebff;}#sk-81079ffc-b20a-4c7b-8ca4-880bda5541ef div.sk-label input.sk-toggleable__control:checked~label.sk-toggleable__label {background-color: #d4ebff;}#sk-81079ffc-b20a-4c7b-8ca4-880bda5541ef input.sk-hidden--visually {border: 0;clip: rect(1px 1px 1px 1px);clip: rect(1px, 1px, 1px, 1px);height: 1px;margin: -1px;overflow: hidden;padding: 0;position: absolute;width: 1px;}#sk-81079ffc-b20a-4c7b-8ca4-880bda5541ef div.sk-estimator {font-family: monospace;background-color: #f0f8ff;border: 1px dotted black;border-radius: 0.25em;box-sizing: border-box;margin-bottom: 0.5em;}#sk-81079ffc-b20a-4c7b-8ca4-880bda5541ef div.sk-estimator:hover {background-color: #d4ebff;}#sk-81079ffc-b20a-4c7b-8ca4-880bda5541ef div.sk-parallel-item::after {content: \"\";width: 100%;border-bottom: 1px solid gray;flex-grow: 1;}#sk-81079ffc-b20a-4c7b-8ca4-880bda5541ef div.sk-label:hover label.sk-toggleable__label {background-color: #d4ebff;}#sk-81079ffc-b20a-4c7b-8ca4-880bda5541ef div.sk-serial::before {content: \"\";position: absolute;border-left: 1px solid gray;box-sizing: border-box;top: 2em;bottom: 0;left: 50%;}#sk-81079ffc-b20a-4c7b-8ca4-880bda5541ef div.sk-serial {display: flex;flex-direction: column;align-items: center;background-color: white;padding-right: 0.2em;padding-left: 0.2em;}#sk-81079ffc-b20a-4c7b-8ca4-880bda5541ef div.sk-item {z-index: 1;}#sk-81079ffc-b20a-4c7b-8ca4-880bda5541ef div.sk-parallel {display: flex;align-items: stretch;justify-content: center;background-color: white;}#sk-81079ffc-b20a-4c7b-8ca4-880bda5541ef div.sk-parallel::before {content: \"\";position: absolute;border-left: 1px solid gray;box-sizing: border-box;top: 2em;bottom: 0;left: 50%;}#sk-81079ffc-b20a-4c7b-8ca4-880bda5541ef div.sk-parallel-item {display: flex;flex-direction: column;position: relative;background-color: white;}#sk-81079ffc-b20a-4c7b-8ca4-880bda5541ef div.sk-parallel-item:first-child::after {align-self: flex-end;width: 50%;}#sk-81079ffc-b20a-4c7b-8ca4-880bda5541ef div.sk-parallel-item:last-child::after {align-self: flex-start;width: 50%;}#sk-81079ffc-b20a-4c7b-8ca4-880bda5541ef div.sk-parallel-item:only-child::after {width: 0;}#sk-81079ffc-b20a-4c7b-8ca4-880bda5541ef div.sk-dashed-wrapped {border: 1px dashed gray;margin: 0 0.4em 0.5em 0.4em;box-sizing: border-box;padding-bottom: 0.4em;background-color: white;position: relative;}#sk-81079ffc-b20a-4c7b-8ca4-880bda5541ef div.sk-label label {font-family: monospace;font-weight: bold;background-color: white;display: inline-block;line-height: 1.2em;}#sk-81079ffc-b20a-4c7b-8ca4-880bda5541ef div.sk-label-container {position: relative;z-index: 2;text-align: center;}#sk-81079ffc-b20a-4c7b-8ca4-880bda5541ef div.sk-container {display: inline-block;position: relative;}</style><div id=\"sk-81079ffc-b20a-4c7b-8ca4-880bda5541ef\" class\"sk-top-container\"><div class=\"sk-container\"><div class=\"sk-item sk-dashed-wrapped\"><div class=\"sk-label-container\"><div class=\"sk-label sk-toggleable\"><input class=\"sk-toggleable__control sk-hidden--visually\" id=\"97317739-8395-4e15-b700-07f00b56a662\" type=\"checkbox\" ><label class=\"sk-toggleable__label\" for=\"97317739-8395-4e15-b700-07f00b56a662\">ColumnTransformer</label><div class=\"sk-toggleable__content\"><pre>ColumnTransformer(remainder='passthrough',\n",
       "                  transformers=[('onehotencoder', OneHotEncoder(), [1, 2, 3]),\n",
       "                                ('ordinalencoder', OrdinalEncoder(), [0, 4]),\n",
       "                                ('powertransformer', PowerTransformer(),\n",
       "                                 [5, 6])])</pre></div></div></div><div class=\"sk-parallel\"><div class=\"sk-parallel-item\"><div class=\"sk-item\"><div class=\"sk-label-container\"><div class=\"sk-label sk-toggleable\"><input class=\"sk-toggleable__control sk-hidden--visually\" id=\"8ba0ede5-46a0-4480-99b4-d9bc28203891\" type=\"checkbox\" ><label class=\"sk-toggleable__label\" for=\"8ba0ede5-46a0-4480-99b4-d9bc28203891\">onehotencoder</label><div class=\"sk-toggleable__content\"><pre>[1, 2, 3]</pre></div></div></div><div class=\"sk-serial\"><div class=\"sk-item\"><div class=\"sk-estimator sk-toggleable\"><input class=\"sk-toggleable__control sk-hidden--visually\" id=\"b4262fd9-0d1c-4db3-990c-1aab2b3ccf1e\" type=\"checkbox\" ><label class=\"sk-toggleable__label\" for=\"b4262fd9-0d1c-4db3-990c-1aab2b3ccf1e\">OneHotEncoder</label><div class=\"sk-toggleable__content\"><pre>OneHotEncoder()</pre></div></div></div></div></div></div><div class=\"sk-parallel-item\"><div class=\"sk-item\"><div class=\"sk-label-container\"><div class=\"sk-label sk-toggleable\"><input class=\"sk-toggleable__control sk-hidden--visually\" id=\"b20f3ee7-938c-4c29-ad32-8ed63f26c031\" type=\"checkbox\" ><label class=\"sk-toggleable__label\" for=\"b20f3ee7-938c-4c29-ad32-8ed63f26c031\">ordinalencoder</label><div class=\"sk-toggleable__content\"><pre>[0, 4]</pre></div></div></div><div class=\"sk-serial\"><div class=\"sk-item\"><div class=\"sk-estimator sk-toggleable\"><input class=\"sk-toggleable__control sk-hidden--visually\" id=\"576bd3e0-e12b-4f67-9fa3-c283c642603f\" type=\"checkbox\" ><label class=\"sk-toggleable__label\" for=\"576bd3e0-e12b-4f67-9fa3-c283c642603f\">OrdinalEncoder</label><div class=\"sk-toggleable__content\"><pre>OrdinalEncoder()</pre></div></div></div></div></div></div><div class=\"sk-parallel-item\"><div class=\"sk-item\"><div class=\"sk-label-container\"><div class=\"sk-label sk-toggleable\"><input class=\"sk-toggleable__control sk-hidden--visually\" id=\"cb339379-d7e2-42bc-918d-7d4e31d09daa\" type=\"checkbox\" ><label class=\"sk-toggleable__label\" for=\"cb339379-d7e2-42bc-918d-7d4e31d09daa\">powertransformer</label><div class=\"sk-toggleable__content\"><pre>[5, 6]</pre></div></div></div><div class=\"sk-serial\"><div class=\"sk-item\"><div class=\"sk-estimator sk-toggleable\"><input class=\"sk-toggleable__control sk-hidden--visually\" id=\"f4111254-b285-4b24-be3b-ecc8dbeb158f\" type=\"checkbox\" ><label class=\"sk-toggleable__label\" for=\"f4111254-b285-4b24-be3b-ecc8dbeb158f\">PowerTransformer</label><div class=\"sk-toggleable__content\"><pre>PowerTransformer()</pre></div></div></div></div></div></div><div class=\"sk-parallel-item\"><div class=\"sk-item\"><div class=\"sk-label-container\"><div class=\"sk-label sk-toggleable\"><input class=\"sk-toggleable__control sk-hidden--visually\" id=\"281d0525-19b2-4ed1-aaeb-42c8ef530e1f\" type=\"checkbox\" ><label class=\"sk-toggleable__label\" for=\"281d0525-19b2-4ed1-aaeb-42c8ef530e1f\">remainder</label><div class=\"sk-toggleable__content\"><pre></pre></div></div></div><div class=\"sk-serial\"><div class=\"sk-item\"><div class=\"sk-estimator sk-toggleable\"><input class=\"sk-toggleable__control sk-hidden--visually\" id=\"e09044bc-ca5e-46f1-9239-883ddeceef5a\" type=\"checkbox\" ><label class=\"sk-toggleable__label\" for=\"e09044bc-ca5e-46f1-9239-883ddeceef5a\">passthrough</label><div class=\"sk-toggleable__content\"><pre>passthrough</pre></div></div></div></div></div></div></div></div></div></div>"
      ],
      "text/plain": [
       "ColumnTransformer(remainder='passthrough',\n",
       "                  transformers=[('onehotencoder', OneHotEncoder(), [1, 2, 3]),\n",
       "                                ('ordinalencoder', OrdinalEncoder(), [0, 4]),\n",
       "                                ('powertransformer', PowerTransformer(),\n",
       "                                 [5, 6])])"
      ]
     },
     "execution_count": 19,
     "metadata": {},
     "output_type": "execute_result"
    }
   ],
   "source": [
    "from sklearn.preprocessing import PowerTransformer, OneHotEncoder, OrdinalEncoder\n",
    "from sklearn.compose import make_column_transformer\n",
    "from sklearn import set_config\n",
    "trans = make_column_transformer ((OneHotEncoder(sparse=True),nomi_col),\n",
    "                                (OrdinalEncoder(),ordinal_col),\n",
    "                                (PowerTransformer(),num_col),\n",
    "                                 remainder= 'passthrough')\n",
    "set_config(display='diagram')\n",
    "trans"
   ]
  },
  {
   "cell_type": "code",
   "execution_count": null,
   "id": "cff2456e",
   "metadata": {
    "papermill": {
     "duration": 0.04597,
     "end_time": "2022-03-14T13:07:34.399383",
     "exception": false,
     "start_time": "2022-03-14T13:07:34.353413",
     "status": "completed"
    },
    "tags": []
   },
   "outputs": [],
   "source": []
  },
  {
   "cell_type": "code",
   "execution_count": 20,
   "id": "39a57f65",
   "metadata": {
    "execution": {
     "iopub.execute_input": "2022-03-14T13:07:34.507314Z",
     "iopub.status.busy": "2022-03-14T13:07:34.506388Z",
     "iopub.status.idle": "2022-03-14T13:07:34.561189Z",
     "shell.execute_reply": "2022-03-14T13:07:34.561829Z",
     "shell.execute_reply.started": "2022-03-14T13:03:54.302629Z"
    },
    "papermill": {
     "duration": 0.111741,
     "end_time": "2022-03-14T13:07:34.562082",
     "exception": false,
     "start_time": "2022-03-14T13:07:34.450341",
     "status": "completed"
    },
    "tags": []
   },
   "outputs": [],
   "source": [
    "from sklearn.model_selection import train_test_split\n",
    "x_train,x_test,y_train,y_test = train_test_split (x,y,test_size=0.3)"
   ]
  },
  {
   "cell_type": "code",
   "execution_count": 21,
   "id": "d02d6c81",
   "metadata": {
    "execution": {
     "iopub.execute_input": "2022-03-14T13:07:34.670725Z",
     "iopub.status.busy": "2022-03-14T13:07:34.669778Z",
     "iopub.status.idle": "2022-03-14T13:07:34.739099Z",
     "shell.execute_reply": "2022-03-14T13:07:34.739727Z",
     "shell.execute_reply.started": "2022-03-14T13:03:54.357242Z"
    },
    "papermill": {
     "duration": 0.123543,
     "end_time": "2022-03-14T13:07:34.739949",
     "exception": false,
     "start_time": "2022-03-14T13:07:34.616406",
     "status": "completed"
    },
    "tags": []
   },
   "outputs": [],
   "source": [
    "from sklearn.linear_model import LinearRegression\n",
    "from sklearn.pipeline import make_pipeline\n",
    "model = LinearRegression()\n",
    "pipe= make_pipeline(trans,model)"
   ]
  },
  {
   "cell_type": "code",
   "execution_count": 22,
   "id": "7db876b5",
   "metadata": {
    "execution": {
     "iopub.execute_input": "2022-03-14T13:07:34.835643Z",
     "iopub.status.busy": "2022-03-14T13:07:34.834640Z",
     "iopub.status.idle": "2022-03-14T13:07:34.840908Z",
     "shell.execute_reply": "2022-03-14T13:07:34.841482Z",
     "shell.execute_reply.started": "2022-03-14T13:03:54.436882Z"
    },
    "papermill": {
     "duration": 0.055744,
     "end_time": "2022-03-14T13:07:34.841663",
     "exception": false,
     "start_time": "2022-03-14T13:07:34.785919",
     "status": "completed"
    },
    "tags": []
   },
   "outputs": [
    {
     "data": {
      "text/html": [
       "<style>#sk-d64edee7-624b-46db-91f7-737b6222d3fa {color: black;background-color: white;}#sk-d64edee7-624b-46db-91f7-737b6222d3fa pre{padding: 0;}#sk-d64edee7-624b-46db-91f7-737b6222d3fa div.sk-toggleable {background-color: white;}#sk-d64edee7-624b-46db-91f7-737b6222d3fa label.sk-toggleable__label {cursor: pointer;display: block;width: 100%;margin-bottom: 0;padding: 0.3em;box-sizing: border-box;text-align: center;}#sk-d64edee7-624b-46db-91f7-737b6222d3fa div.sk-toggleable__content {max-height: 0;max-width: 0;overflow: hidden;text-align: left;background-color: #f0f8ff;}#sk-d64edee7-624b-46db-91f7-737b6222d3fa div.sk-toggleable__content pre {margin: 0.2em;color: black;border-radius: 0.25em;background-color: #f0f8ff;}#sk-d64edee7-624b-46db-91f7-737b6222d3fa input.sk-toggleable__control:checked~div.sk-toggleable__content {max-height: 200px;max-width: 100%;overflow: auto;}#sk-d64edee7-624b-46db-91f7-737b6222d3fa div.sk-estimator input.sk-toggleable__control:checked~label.sk-toggleable__label {background-color: #d4ebff;}#sk-d64edee7-624b-46db-91f7-737b6222d3fa div.sk-label input.sk-toggleable__control:checked~label.sk-toggleable__label {background-color: #d4ebff;}#sk-d64edee7-624b-46db-91f7-737b6222d3fa input.sk-hidden--visually {border: 0;clip: rect(1px 1px 1px 1px);clip: rect(1px, 1px, 1px, 1px);height: 1px;margin: -1px;overflow: hidden;padding: 0;position: absolute;width: 1px;}#sk-d64edee7-624b-46db-91f7-737b6222d3fa div.sk-estimator {font-family: monospace;background-color: #f0f8ff;border: 1px dotted black;border-radius: 0.25em;box-sizing: border-box;margin-bottom: 0.5em;}#sk-d64edee7-624b-46db-91f7-737b6222d3fa div.sk-estimator:hover {background-color: #d4ebff;}#sk-d64edee7-624b-46db-91f7-737b6222d3fa div.sk-parallel-item::after {content: \"\";width: 100%;border-bottom: 1px solid gray;flex-grow: 1;}#sk-d64edee7-624b-46db-91f7-737b6222d3fa div.sk-label:hover label.sk-toggleable__label {background-color: #d4ebff;}#sk-d64edee7-624b-46db-91f7-737b6222d3fa div.sk-serial::before {content: \"\";position: absolute;border-left: 1px solid gray;box-sizing: border-box;top: 2em;bottom: 0;left: 50%;}#sk-d64edee7-624b-46db-91f7-737b6222d3fa div.sk-serial {display: flex;flex-direction: column;align-items: center;background-color: white;padding-right: 0.2em;padding-left: 0.2em;}#sk-d64edee7-624b-46db-91f7-737b6222d3fa div.sk-item {z-index: 1;}#sk-d64edee7-624b-46db-91f7-737b6222d3fa div.sk-parallel {display: flex;align-items: stretch;justify-content: center;background-color: white;}#sk-d64edee7-624b-46db-91f7-737b6222d3fa div.sk-parallel::before {content: \"\";position: absolute;border-left: 1px solid gray;box-sizing: border-box;top: 2em;bottom: 0;left: 50%;}#sk-d64edee7-624b-46db-91f7-737b6222d3fa div.sk-parallel-item {display: flex;flex-direction: column;position: relative;background-color: white;}#sk-d64edee7-624b-46db-91f7-737b6222d3fa div.sk-parallel-item:first-child::after {align-self: flex-end;width: 50%;}#sk-d64edee7-624b-46db-91f7-737b6222d3fa div.sk-parallel-item:last-child::after {align-self: flex-start;width: 50%;}#sk-d64edee7-624b-46db-91f7-737b6222d3fa div.sk-parallel-item:only-child::after {width: 0;}#sk-d64edee7-624b-46db-91f7-737b6222d3fa div.sk-dashed-wrapped {border: 1px dashed gray;margin: 0 0.4em 0.5em 0.4em;box-sizing: border-box;padding-bottom: 0.4em;background-color: white;position: relative;}#sk-d64edee7-624b-46db-91f7-737b6222d3fa div.sk-label label {font-family: monospace;font-weight: bold;background-color: white;display: inline-block;line-height: 1.2em;}#sk-d64edee7-624b-46db-91f7-737b6222d3fa div.sk-label-container {position: relative;z-index: 2;text-align: center;}#sk-d64edee7-624b-46db-91f7-737b6222d3fa div.sk-container {display: inline-block;position: relative;}</style><div id=\"sk-d64edee7-624b-46db-91f7-737b6222d3fa\" class\"sk-top-container\"><div class=\"sk-container\"><div class=\"sk-item\"><div class=\"sk-estimator sk-toggleable\"><input class=\"sk-toggleable__control sk-hidden--visually\" id=\"bc7f5983-13b5-4375-b1cc-44420f756e80\" type=\"checkbox\" checked><label class=\"sk-toggleable__label\" for=\"bc7f5983-13b5-4375-b1cc-44420f756e80\">LinearRegression</label><div class=\"sk-toggleable__content\"><pre>LinearRegression()</pre></div></div></div></div></div>"
      ],
      "text/plain": [
       "LinearRegression()"
      ]
     },
     "execution_count": 22,
     "metadata": {},
     "output_type": "execute_result"
    }
   ],
   "source": [
    "model"
   ]
  },
  {
   "cell_type": "code",
   "execution_count": 23,
   "id": "1e859fa1",
   "metadata": {
    "execution": {
     "iopub.execute_input": "2022-03-14T13:07:34.938155Z",
     "iopub.status.busy": "2022-03-14T13:07:34.937148Z",
     "iopub.status.idle": "2022-03-14T13:07:34.961245Z",
     "shell.execute_reply": "2022-03-14T13:07:34.961829Z",
     "shell.execute_reply.started": "2022-03-14T13:03:54.446035Z"
    },
    "papermill": {
     "duration": 0.074138,
     "end_time": "2022-03-14T13:07:34.961999",
     "exception": false,
     "start_time": "2022-03-14T13:07:34.887861",
     "status": "completed"
    },
    "tags": []
   },
   "outputs": [
    {
     "data": {
      "text/html": [
       "<style>#sk-49d00a7e-1bb7-4fed-a57b-c76a4e838d8d {color: black;background-color: white;}#sk-49d00a7e-1bb7-4fed-a57b-c76a4e838d8d pre{padding: 0;}#sk-49d00a7e-1bb7-4fed-a57b-c76a4e838d8d div.sk-toggleable {background-color: white;}#sk-49d00a7e-1bb7-4fed-a57b-c76a4e838d8d label.sk-toggleable__label {cursor: pointer;display: block;width: 100%;margin-bottom: 0;padding: 0.3em;box-sizing: border-box;text-align: center;}#sk-49d00a7e-1bb7-4fed-a57b-c76a4e838d8d div.sk-toggleable__content {max-height: 0;max-width: 0;overflow: hidden;text-align: left;background-color: #f0f8ff;}#sk-49d00a7e-1bb7-4fed-a57b-c76a4e838d8d div.sk-toggleable__content pre {margin: 0.2em;color: black;border-radius: 0.25em;background-color: #f0f8ff;}#sk-49d00a7e-1bb7-4fed-a57b-c76a4e838d8d input.sk-toggleable__control:checked~div.sk-toggleable__content {max-height: 200px;max-width: 100%;overflow: auto;}#sk-49d00a7e-1bb7-4fed-a57b-c76a4e838d8d div.sk-estimator input.sk-toggleable__control:checked~label.sk-toggleable__label {background-color: #d4ebff;}#sk-49d00a7e-1bb7-4fed-a57b-c76a4e838d8d div.sk-label input.sk-toggleable__control:checked~label.sk-toggleable__label {background-color: #d4ebff;}#sk-49d00a7e-1bb7-4fed-a57b-c76a4e838d8d input.sk-hidden--visually {border: 0;clip: rect(1px 1px 1px 1px);clip: rect(1px, 1px, 1px, 1px);height: 1px;margin: -1px;overflow: hidden;padding: 0;position: absolute;width: 1px;}#sk-49d00a7e-1bb7-4fed-a57b-c76a4e838d8d div.sk-estimator {font-family: monospace;background-color: #f0f8ff;border: 1px dotted black;border-radius: 0.25em;box-sizing: border-box;margin-bottom: 0.5em;}#sk-49d00a7e-1bb7-4fed-a57b-c76a4e838d8d div.sk-estimator:hover {background-color: #d4ebff;}#sk-49d00a7e-1bb7-4fed-a57b-c76a4e838d8d div.sk-parallel-item::after {content: \"\";width: 100%;border-bottom: 1px solid gray;flex-grow: 1;}#sk-49d00a7e-1bb7-4fed-a57b-c76a4e838d8d div.sk-label:hover label.sk-toggleable__label {background-color: #d4ebff;}#sk-49d00a7e-1bb7-4fed-a57b-c76a4e838d8d div.sk-serial::before {content: \"\";position: absolute;border-left: 1px solid gray;box-sizing: border-box;top: 2em;bottom: 0;left: 50%;}#sk-49d00a7e-1bb7-4fed-a57b-c76a4e838d8d div.sk-serial {display: flex;flex-direction: column;align-items: center;background-color: white;padding-right: 0.2em;padding-left: 0.2em;}#sk-49d00a7e-1bb7-4fed-a57b-c76a4e838d8d div.sk-item {z-index: 1;}#sk-49d00a7e-1bb7-4fed-a57b-c76a4e838d8d div.sk-parallel {display: flex;align-items: stretch;justify-content: center;background-color: white;}#sk-49d00a7e-1bb7-4fed-a57b-c76a4e838d8d div.sk-parallel::before {content: \"\";position: absolute;border-left: 1px solid gray;box-sizing: border-box;top: 2em;bottom: 0;left: 50%;}#sk-49d00a7e-1bb7-4fed-a57b-c76a4e838d8d div.sk-parallel-item {display: flex;flex-direction: column;position: relative;background-color: white;}#sk-49d00a7e-1bb7-4fed-a57b-c76a4e838d8d div.sk-parallel-item:first-child::after {align-self: flex-end;width: 50%;}#sk-49d00a7e-1bb7-4fed-a57b-c76a4e838d8d div.sk-parallel-item:last-child::after {align-self: flex-start;width: 50%;}#sk-49d00a7e-1bb7-4fed-a57b-c76a4e838d8d div.sk-parallel-item:only-child::after {width: 0;}#sk-49d00a7e-1bb7-4fed-a57b-c76a4e838d8d div.sk-dashed-wrapped {border: 1px dashed gray;margin: 0 0.4em 0.5em 0.4em;box-sizing: border-box;padding-bottom: 0.4em;background-color: white;position: relative;}#sk-49d00a7e-1bb7-4fed-a57b-c76a4e838d8d div.sk-label label {font-family: monospace;font-weight: bold;background-color: white;display: inline-block;line-height: 1.2em;}#sk-49d00a7e-1bb7-4fed-a57b-c76a4e838d8d div.sk-label-container {position: relative;z-index: 2;text-align: center;}#sk-49d00a7e-1bb7-4fed-a57b-c76a4e838d8d div.sk-container {display: inline-block;position: relative;}</style><div id=\"sk-49d00a7e-1bb7-4fed-a57b-c76a4e838d8d\" class\"sk-top-container\"><div class=\"sk-container\"><div class=\"sk-item sk-dashed-wrapped\"><div class=\"sk-label-container\"><div class=\"sk-label sk-toggleable\"><input class=\"sk-toggleable__control sk-hidden--visually\" id=\"901d4dd7-a528-49e3-b873-d801b4fae38e\" type=\"checkbox\" ><label class=\"sk-toggleable__label\" for=\"901d4dd7-a528-49e3-b873-d801b4fae38e\">Pipeline</label><div class=\"sk-toggleable__content\"><pre>Pipeline(steps=[('columntransformer',\n",
       "                 ColumnTransformer(remainder='passthrough',\n",
       "                                   transformers=[('onehotencoder',\n",
       "                                                  OneHotEncoder(), [1, 2, 3]),\n",
       "                                                 ('ordinalencoder',\n",
       "                                                  OrdinalEncoder(), [0, 4]),\n",
       "                                                 ('powertransformer',\n",
       "                                                  PowerTransformer(),\n",
       "                                                  [5, 6])])),\n",
       "                ('linearregression', LinearRegression())])</pre></div></div></div><div class=\"sk-serial\"><div class=\"sk-item sk-dashed-wrapped\"><div class=\"sk-label-container\"><div class=\"sk-label sk-toggleable\"><input class=\"sk-toggleable__control sk-hidden--visually\" id=\"b0f3489f-a6a0-4c8a-abf8-3bec4e43efcb\" type=\"checkbox\" ><label class=\"sk-toggleable__label\" for=\"b0f3489f-a6a0-4c8a-abf8-3bec4e43efcb\">columntransformer: ColumnTransformer</label><div class=\"sk-toggleable__content\"><pre>ColumnTransformer(remainder='passthrough',\n",
       "                  transformers=[('onehotencoder', OneHotEncoder(), [1, 2, 3]),\n",
       "                                ('ordinalencoder', OrdinalEncoder(), [0, 4]),\n",
       "                                ('powertransformer', PowerTransformer(),\n",
       "                                 [5, 6])])</pre></div></div></div><div class=\"sk-parallel\"><div class=\"sk-parallel-item\"><div class=\"sk-item\"><div class=\"sk-label-container\"><div class=\"sk-label sk-toggleable\"><input class=\"sk-toggleable__control sk-hidden--visually\" id=\"36299e91-7dbc-430b-9ee0-e10f7d6288a0\" type=\"checkbox\" ><label class=\"sk-toggleable__label\" for=\"36299e91-7dbc-430b-9ee0-e10f7d6288a0\">onehotencoder</label><div class=\"sk-toggleable__content\"><pre>[1, 2, 3]</pre></div></div></div><div class=\"sk-serial\"><div class=\"sk-item\"><div class=\"sk-estimator sk-toggleable\"><input class=\"sk-toggleable__control sk-hidden--visually\" id=\"e5b9f66c-bd03-4c33-8b3b-1c305ff72970\" type=\"checkbox\" ><label class=\"sk-toggleable__label\" for=\"e5b9f66c-bd03-4c33-8b3b-1c305ff72970\">OneHotEncoder</label><div class=\"sk-toggleable__content\"><pre>OneHotEncoder()</pre></div></div></div></div></div></div><div class=\"sk-parallel-item\"><div class=\"sk-item\"><div class=\"sk-label-container\"><div class=\"sk-label sk-toggleable\"><input class=\"sk-toggleable__control sk-hidden--visually\" id=\"2a2daca8-0561-4c69-9e52-42bc8265a578\" type=\"checkbox\" ><label class=\"sk-toggleable__label\" for=\"2a2daca8-0561-4c69-9e52-42bc8265a578\">ordinalencoder</label><div class=\"sk-toggleable__content\"><pre>[0, 4]</pre></div></div></div><div class=\"sk-serial\"><div class=\"sk-item\"><div class=\"sk-estimator sk-toggleable\"><input class=\"sk-toggleable__control sk-hidden--visually\" id=\"82a7feb9-78f8-4464-981f-e1fd52b6ad91\" type=\"checkbox\" ><label class=\"sk-toggleable__label\" for=\"82a7feb9-78f8-4464-981f-e1fd52b6ad91\">OrdinalEncoder</label><div class=\"sk-toggleable__content\"><pre>OrdinalEncoder()</pre></div></div></div></div></div></div><div class=\"sk-parallel-item\"><div class=\"sk-item\"><div class=\"sk-label-container\"><div class=\"sk-label sk-toggleable\"><input class=\"sk-toggleable__control sk-hidden--visually\" id=\"7c5ab8b2-4991-41f4-8b7c-5947d911966e\" type=\"checkbox\" ><label class=\"sk-toggleable__label\" for=\"7c5ab8b2-4991-41f4-8b7c-5947d911966e\">powertransformer</label><div class=\"sk-toggleable__content\"><pre>[5, 6]</pre></div></div></div><div class=\"sk-serial\"><div class=\"sk-item\"><div class=\"sk-estimator sk-toggleable\"><input class=\"sk-toggleable__control sk-hidden--visually\" id=\"6cff67ec-6b2e-4715-9adb-dc5f138674e7\" type=\"checkbox\" ><label class=\"sk-toggleable__label\" for=\"6cff67ec-6b2e-4715-9adb-dc5f138674e7\">PowerTransformer</label><div class=\"sk-toggleable__content\"><pre>PowerTransformer()</pre></div></div></div></div></div></div><div class=\"sk-parallel-item\"><div class=\"sk-item\"><div class=\"sk-label-container\"><div class=\"sk-label sk-toggleable\"><input class=\"sk-toggleable__control sk-hidden--visually\" id=\"26041167-2890-4b8c-b554-3bc9d608009f\" type=\"checkbox\" ><label class=\"sk-toggleable__label\" for=\"26041167-2890-4b8c-b554-3bc9d608009f\">remainder</label><div class=\"sk-toggleable__content\"><pre></pre></div></div></div><div class=\"sk-serial\"><div class=\"sk-item\"><div class=\"sk-estimator sk-toggleable\"><input class=\"sk-toggleable__control sk-hidden--visually\" id=\"fda0b947-7494-4cd0-a717-c0afadcce1e7\" type=\"checkbox\" ><label class=\"sk-toggleable__label\" for=\"fda0b947-7494-4cd0-a717-c0afadcce1e7\">passthrough</label><div class=\"sk-toggleable__content\"><pre>passthrough</pre></div></div></div></div></div></div></div></div><div class=\"sk-item\"><div class=\"sk-estimator sk-toggleable\"><input class=\"sk-toggleable__control sk-hidden--visually\" id=\"718da256-10eb-4fb0-9444-a63f6861c47f\" type=\"checkbox\" ><label class=\"sk-toggleable__label\" for=\"718da256-10eb-4fb0-9444-a63f6861c47f\">LinearRegression</label><div class=\"sk-toggleable__content\"><pre>LinearRegression()</pre></div></div></div></div></div></div></div>"
      ],
      "text/plain": [
       "Pipeline(steps=[('columntransformer',\n",
       "                 ColumnTransformer(remainder='passthrough',\n",
       "                                   transformers=[('onehotencoder',\n",
       "                                                  OneHotEncoder(), [1, 2, 3]),\n",
       "                                                 ('ordinalencoder',\n",
       "                                                  OrdinalEncoder(), [0, 4]),\n",
       "                                                 ('powertransformer',\n",
       "                                                  PowerTransformer(),\n",
       "                                                  [5, 6])])),\n",
       "                ('linearregression', LinearRegression())])"
      ]
     },
     "execution_count": 23,
     "metadata": {},
     "output_type": "execute_result"
    }
   ],
   "source": [
    "pipe"
   ]
  },
  {
   "cell_type": "code",
   "execution_count": 24,
   "id": "f36b55aa",
   "metadata": {
    "execution": {
     "iopub.execute_input": "2022-03-14T13:07:35.063504Z",
     "iopub.status.busy": "2022-03-14T13:07:35.062458Z",
     "iopub.status.idle": "2022-03-14T13:07:35.111887Z",
     "shell.execute_reply": "2022-03-14T13:07:35.112490Z",
     "shell.execute_reply.started": "2022-03-14T13:03:54.476119Z"
    },
    "papermill": {
     "duration": 0.102472,
     "end_time": "2022-03-14T13:07:35.112675",
     "exception": false,
     "start_time": "2022-03-14T13:07:35.010203",
     "status": "completed"
    },
    "tags": []
   },
   "outputs": [
    {
     "data": {
      "text/html": [
       "<style>#sk-9e9e7566-ad06-4942-bfdb-be1c3c09a111 {color: black;background-color: white;}#sk-9e9e7566-ad06-4942-bfdb-be1c3c09a111 pre{padding: 0;}#sk-9e9e7566-ad06-4942-bfdb-be1c3c09a111 div.sk-toggleable {background-color: white;}#sk-9e9e7566-ad06-4942-bfdb-be1c3c09a111 label.sk-toggleable__label {cursor: pointer;display: block;width: 100%;margin-bottom: 0;padding: 0.3em;box-sizing: border-box;text-align: center;}#sk-9e9e7566-ad06-4942-bfdb-be1c3c09a111 div.sk-toggleable__content {max-height: 0;max-width: 0;overflow: hidden;text-align: left;background-color: #f0f8ff;}#sk-9e9e7566-ad06-4942-bfdb-be1c3c09a111 div.sk-toggleable__content pre {margin: 0.2em;color: black;border-radius: 0.25em;background-color: #f0f8ff;}#sk-9e9e7566-ad06-4942-bfdb-be1c3c09a111 input.sk-toggleable__control:checked~div.sk-toggleable__content {max-height: 200px;max-width: 100%;overflow: auto;}#sk-9e9e7566-ad06-4942-bfdb-be1c3c09a111 div.sk-estimator input.sk-toggleable__control:checked~label.sk-toggleable__label {background-color: #d4ebff;}#sk-9e9e7566-ad06-4942-bfdb-be1c3c09a111 div.sk-label input.sk-toggleable__control:checked~label.sk-toggleable__label {background-color: #d4ebff;}#sk-9e9e7566-ad06-4942-bfdb-be1c3c09a111 input.sk-hidden--visually {border: 0;clip: rect(1px 1px 1px 1px);clip: rect(1px, 1px, 1px, 1px);height: 1px;margin: -1px;overflow: hidden;padding: 0;position: absolute;width: 1px;}#sk-9e9e7566-ad06-4942-bfdb-be1c3c09a111 div.sk-estimator {font-family: monospace;background-color: #f0f8ff;border: 1px dotted black;border-radius: 0.25em;box-sizing: border-box;margin-bottom: 0.5em;}#sk-9e9e7566-ad06-4942-bfdb-be1c3c09a111 div.sk-estimator:hover {background-color: #d4ebff;}#sk-9e9e7566-ad06-4942-bfdb-be1c3c09a111 div.sk-parallel-item::after {content: \"\";width: 100%;border-bottom: 1px solid gray;flex-grow: 1;}#sk-9e9e7566-ad06-4942-bfdb-be1c3c09a111 div.sk-label:hover label.sk-toggleable__label {background-color: #d4ebff;}#sk-9e9e7566-ad06-4942-bfdb-be1c3c09a111 div.sk-serial::before {content: \"\";position: absolute;border-left: 1px solid gray;box-sizing: border-box;top: 2em;bottom: 0;left: 50%;}#sk-9e9e7566-ad06-4942-bfdb-be1c3c09a111 div.sk-serial {display: flex;flex-direction: column;align-items: center;background-color: white;padding-right: 0.2em;padding-left: 0.2em;}#sk-9e9e7566-ad06-4942-bfdb-be1c3c09a111 div.sk-item {z-index: 1;}#sk-9e9e7566-ad06-4942-bfdb-be1c3c09a111 div.sk-parallel {display: flex;align-items: stretch;justify-content: center;background-color: white;}#sk-9e9e7566-ad06-4942-bfdb-be1c3c09a111 div.sk-parallel::before {content: \"\";position: absolute;border-left: 1px solid gray;box-sizing: border-box;top: 2em;bottom: 0;left: 50%;}#sk-9e9e7566-ad06-4942-bfdb-be1c3c09a111 div.sk-parallel-item {display: flex;flex-direction: column;position: relative;background-color: white;}#sk-9e9e7566-ad06-4942-bfdb-be1c3c09a111 div.sk-parallel-item:first-child::after {align-self: flex-end;width: 50%;}#sk-9e9e7566-ad06-4942-bfdb-be1c3c09a111 div.sk-parallel-item:last-child::after {align-self: flex-start;width: 50%;}#sk-9e9e7566-ad06-4942-bfdb-be1c3c09a111 div.sk-parallel-item:only-child::after {width: 0;}#sk-9e9e7566-ad06-4942-bfdb-be1c3c09a111 div.sk-dashed-wrapped {border: 1px dashed gray;margin: 0 0.4em 0.5em 0.4em;box-sizing: border-box;padding-bottom: 0.4em;background-color: white;position: relative;}#sk-9e9e7566-ad06-4942-bfdb-be1c3c09a111 div.sk-label label {font-family: monospace;font-weight: bold;background-color: white;display: inline-block;line-height: 1.2em;}#sk-9e9e7566-ad06-4942-bfdb-be1c3c09a111 div.sk-label-container {position: relative;z-index: 2;text-align: center;}#sk-9e9e7566-ad06-4942-bfdb-be1c3c09a111 div.sk-container {display: inline-block;position: relative;}</style><div id=\"sk-9e9e7566-ad06-4942-bfdb-be1c3c09a111\" class\"sk-top-container\"><div class=\"sk-container\"><div class=\"sk-item sk-dashed-wrapped\"><div class=\"sk-label-container\"><div class=\"sk-label sk-toggleable\"><input class=\"sk-toggleable__control sk-hidden--visually\" id=\"532be7ed-0686-4588-8988-6a10648ae91a\" type=\"checkbox\" ><label class=\"sk-toggleable__label\" for=\"532be7ed-0686-4588-8988-6a10648ae91a\">Pipeline</label><div class=\"sk-toggleable__content\"><pre>Pipeline(steps=[('columntransformer',\n",
       "                 ColumnTransformer(remainder='passthrough',\n",
       "                                   transformers=[('onehotencoder',\n",
       "                                                  OneHotEncoder(), [1, 2, 3]),\n",
       "                                                 ('ordinalencoder',\n",
       "                                                  OrdinalEncoder(), [0, 4]),\n",
       "                                                 ('powertransformer',\n",
       "                                                  PowerTransformer(),\n",
       "                                                  [5, 6])])),\n",
       "                ('linearregression', LinearRegression())])</pre></div></div></div><div class=\"sk-serial\"><div class=\"sk-item sk-dashed-wrapped\"><div class=\"sk-label-container\"><div class=\"sk-label sk-toggleable\"><input class=\"sk-toggleable__control sk-hidden--visually\" id=\"8bc96090-22f5-4c18-9630-8b860589da1a\" type=\"checkbox\" ><label class=\"sk-toggleable__label\" for=\"8bc96090-22f5-4c18-9630-8b860589da1a\">columntransformer: ColumnTransformer</label><div class=\"sk-toggleable__content\"><pre>ColumnTransformer(remainder='passthrough',\n",
       "                  transformers=[('onehotencoder', OneHotEncoder(), [1, 2, 3]),\n",
       "                                ('ordinalencoder', OrdinalEncoder(), [0, 4]),\n",
       "                                ('powertransformer', PowerTransformer(),\n",
       "                                 [5, 6])])</pre></div></div></div><div class=\"sk-parallel\"><div class=\"sk-parallel-item\"><div class=\"sk-item\"><div class=\"sk-label-container\"><div class=\"sk-label sk-toggleable\"><input class=\"sk-toggleable__control sk-hidden--visually\" id=\"8fed041f-f31d-45c4-8ed4-0419bc51d5ef\" type=\"checkbox\" ><label class=\"sk-toggleable__label\" for=\"8fed041f-f31d-45c4-8ed4-0419bc51d5ef\">onehotencoder</label><div class=\"sk-toggleable__content\"><pre>[1, 2, 3]</pre></div></div></div><div class=\"sk-serial\"><div class=\"sk-item\"><div class=\"sk-estimator sk-toggleable\"><input class=\"sk-toggleable__control sk-hidden--visually\" id=\"cf4ac3b0-70d5-41da-832c-6b919271ebde\" type=\"checkbox\" ><label class=\"sk-toggleable__label\" for=\"cf4ac3b0-70d5-41da-832c-6b919271ebde\">OneHotEncoder</label><div class=\"sk-toggleable__content\"><pre>OneHotEncoder()</pre></div></div></div></div></div></div><div class=\"sk-parallel-item\"><div class=\"sk-item\"><div class=\"sk-label-container\"><div class=\"sk-label sk-toggleable\"><input class=\"sk-toggleable__control sk-hidden--visually\" id=\"0bdd27c0-b33e-4d07-b3dd-7978d8c9d27e\" type=\"checkbox\" ><label class=\"sk-toggleable__label\" for=\"0bdd27c0-b33e-4d07-b3dd-7978d8c9d27e\">ordinalencoder</label><div class=\"sk-toggleable__content\"><pre>[0, 4]</pre></div></div></div><div class=\"sk-serial\"><div class=\"sk-item\"><div class=\"sk-estimator sk-toggleable\"><input class=\"sk-toggleable__control sk-hidden--visually\" id=\"423f19c8-c204-47e2-a45d-67c77700b005\" type=\"checkbox\" ><label class=\"sk-toggleable__label\" for=\"423f19c8-c204-47e2-a45d-67c77700b005\">OrdinalEncoder</label><div class=\"sk-toggleable__content\"><pre>OrdinalEncoder()</pre></div></div></div></div></div></div><div class=\"sk-parallel-item\"><div class=\"sk-item\"><div class=\"sk-label-container\"><div class=\"sk-label sk-toggleable\"><input class=\"sk-toggleable__control sk-hidden--visually\" id=\"031b5495-85fd-4f39-9fa4-909ddc3cc0ae\" type=\"checkbox\" ><label class=\"sk-toggleable__label\" for=\"031b5495-85fd-4f39-9fa4-909ddc3cc0ae\">powertransformer</label><div class=\"sk-toggleable__content\"><pre>[5, 6]</pre></div></div></div><div class=\"sk-serial\"><div class=\"sk-item\"><div class=\"sk-estimator sk-toggleable\"><input class=\"sk-toggleable__control sk-hidden--visually\" id=\"cd19ddb6-cbf2-4eb0-99b4-b0152de903d0\" type=\"checkbox\" ><label class=\"sk-toggleable__label\" for=\"cd19ddb6-cbf2-4eb0-99b4-b0152de903d0\">PowerTransformer</label><div class=\"sk-toggleable__content\"><pre>PowerTransformer()</pre></div></div></div></div></div></div><div class=\"sk-parallel-item\"><div class=\"sk-item\"><div class=\"sk-label-container\"><div class=\"sk-label sk-toggleable\"><input class=\"sk-toggleable__control sk-hidden--visually\" id=\"cfa65a45-1c3d-46a3-bab0-485794e2d0b7\" type=\"checkbox\" ><label class=\"sk-toggleable__label\" for=\"cfa65a45-1c3d-46a3-bab0-485794e2d0b7\">remainder</label><div class=\"sk-toggleable__content\"><pre>[]</pre></div></div></div><div class=\"sk-serial\"><div class=\"sk-item\"><div class=\"sk-estimator sk-toggleable\"><input class=\"sk-toggleable__control sk-hidden--visually\" id=\"8007f457-f8d5-479b-85f7-bbf7a53e0080\" type=\"checkbox\" ><label class=\"sk-toggleable__label\" for=\"8007f457-f8d5-479b-85f7-bbf7a53e0080\">passthrough</label><div class=\"sk-toggleable__content\"><pre>passthrough</pre></div></div></div></div></div></div></div></div><div class=\"sk-item\"><div class=\"sk-estimator sk-toggleable\"><input class=\"sk-toggleable__control sk-hidden--visually\" id=\"7cab2a91-5c88-421f-a7e4-a8f9bdb5f50a\" type=\"checkbox\" ><label class=\"sk-toggleable__label\" for=\"7cab2a91-5c88-421f-a7e4-a8f9bdb5f50a\">LinearRegression</label><div class=\"sk-toggleable__content\"><pre>LinearRegression()</pre></div></div></div></div></div></div></div>"
      ],
      "text/plain": [
       "Pipeline(steps=[('columntransformer',\n",
       "                 ColumnTransformer(remainder='passthrough',\n",
       "                                   transformers=[('onehotencoder',\n",
       "                                                  OneHotEncoder(), [1, 2, 3]),\n",
       "                                                 ('ordinalencoder',\n",
       "                                                  OrdinalEncoder(), [0, 4]),\n",
       "                                                 ('powertransformer',\n",
       "                                                  PowerTransformer(),\n",
       "                                                  [5, 6])])),\n",
       "                ('linearregression', LinearRegression())])"
      ]
     },
     "execution_count": 24,
     "metadata": {},
     "output_type": "execute_result"
    }
   ],
   "source": [
    "pipe.fit(x_test,y_test)"
   ]
  },
  {
   "cell_type": "code",
   "execution_count": 25,
   "id": "3e3c1b95",
   "metadata": {
    "execution": {
     "iopub.execute_input": "2022-03-14T13:07:35.211315Z",
     "iopub.status.busy": "2022-03-14T13:07:35.210391Z",
     "iopub.status.idle": "2022-03-14T13:07:35.230065Z",
     "shell.execute_reply": "2022-03-14T13:07:35.230539Z",
     "shell.execute_reply.started": "2022-03-14T13:03:54.533759Z"
    },
    "papermill": {
     "duration": 0.07034,
     "end_time": "2022-03-14T13:07:35.230743",
     "exception": false,
     "start_time": "2022-03-14T13:07:35.160403",
     "status": "completed"
    },
    "tags": []
   },
   "outputs": [
    {
     "data": {
      "text/plain": [
       "array([[-0.08142003],\n",
       "       [-0.7729761 ],\n",
       "       [ 0.16431919],\n",
       "       [-0.24211058],\n",
       "       [-0.27163871],\n",
       "       [-0.58896876],\n",
       "       [-1.34905731],\n",
       "       [ 1.3282604 ],\n",
       "       [-0.94193915],\n",
       "       [ 0.41608513],\n",
       "       [-1.77886236],\n",
       "       [-1.08389874],\n",
       "       [-0.86028401],\n",
       "       [-0.50304377],\n",
       "       [-2.62051249],\n",
       "       [ 0.26672548],\n",
       "       [-0.03578694],\n",
       "       [ 0.71665607],\n",
       "       [ 0.9111796 ],\n",
       "       [ 1.19708072],\n",
       "       [ 1.25266522],\n",
       "       [-2.35428688],\n",
       "       [-0.35217926],\n",
       "       [ 0.43860109],\n",
       "       [ 0.22418004],\n",
       "       [-0.10359679],\n",
       "       [ 1.87353228],\n",
       "       [ 0.54984697],\n",
       "       [-1.03370469],\n",
       "       [ 0.96586467],\n",
       "       [ 1.41091631],\n",
       "       [ 0.49060113],\n",
       "       [ 0.52054623],\n",
       "       [ 0.67217344],\n",
       "       [ 0.94479947],\n",
       "       [-1.19987269],\n",
       "       [-0.02542015],\n",
       "       [-0.02958691],\n",
       "       [-0.4335913 ],\n",
       "       [-0.96243218],\n",
       "       [-0.82152667],\n",
       "       [ 0.67578924],\n",
       "       [ 0.4645576 ],\n",
       "       [ 1.28750213],\n",
       "       [-0.41281971],\n",
       "       [ 0.40678846],\n",
       "       [ 0.54429549],\n",
       "       [-0.57940454],\n",
       "       [-0.12417662],\n",
       "       [-0.44813526],\n",
       "       [-0.60796414],\n",
       "       [ 0.82592835],\n",
       "       [ 0.24851642],\n",
       "       [-0.74243277],\n",
       "       [-0.31905719],\n",
       "       [ 1.5959685 ],\n",
       "       [ 0.14279241],\n",
       "       [ 0.31669738],\n",
       "       [-0.69432397],\n",
       "       [ 0.85081792],\n",
       "       [ 0.26831393],\n",
       "       [ 1.14283281],\n",
       "       [ 0.01627995],\n",
       "       [ 0.08500709],\n",
       "       [ 0.1885504 ],\n",
       "       [-0.77597594],\n",
       "       [-1.01366012],\n",
       "       [-0.23495816],\n",
       "       [ 0.56703254],\n",
       "       [-1.33263719],\n",
       "       [ 0.05438997],\n",
       "       [ 0.42894806],\n",
       "       [ 1.34512982],\n",
       "       [ 0.7378179 ],\n",
       "       [-0.73197758],\n",
       "       [ 1.6374766 ],\n",
       "       [ 0.33716142],\n",
       "       [-1.08457709],\n",
       "       [ 1.51943165],\n",
       "       [-1.07637241],\n",
       "       [ 1.64025268],\n",
       "       [ 1.81201079],\n",
       "       [ 0.87765175],\n",
       "       [-0.65295612],\n",
       "       [ 1.2456    ],\n",
       "       [-0.06395879],\n",
       "       [ 0.50550404],\n",
       "       [ 0.61205075],\n",
       "       [ 1.720755  ],\n",
       "       [ 1.05820474],\n",
       "       [ 0.80745724],\n",
       "       [-0.29853746],\n",
       "       [-1.38292473],\n",
       "       [ 0.60519512],\n",
       "       [ 0.81107851],\n",
       "       [-1.4499996 ],\n",
       "       [-0.33707617],\n",
       "       [ 0.14502906],\n",
       "       [-0.1380108 ],\n",
       "       [ 0.0775633 ],\n",
       "       [ 0.55495077],\n",
       "       [ 0.35202781],\n",
       "       [-0.95733069],\n",
       "       [-1.5383167 ],\n",
       "       [-0.04074996],\n",
       "       [ 0.79032091],\n",
       "       [-0.37200796],\n",
       "       [ 0.65619327],\n",
       "       [-0.91342171],\n",
       "       [ 0.61275708],\n",
       "       [ 1.49396505],\n",
       "       [-0.72264242],\n",
       "       [-0.32645005],\n",
       "       [-0.0048428 ],\n",
       "       [ 1.40186338],\n",
       "       [ 0.80121387],\n",
       "       [ 0.37650028],\n",
       "       [ 0.35893233],\n",
       "       [-0.42569955],\n",
       "       [ 0.11518988],\n",
       "       [ 0.21601658],\n",
       "       [ 0.31140487],\n",
       "       [ 1.19823548],\n",
       "       [ 1.60870675],\n",
       "       [-0.832044  ],\n",
       "       [-1.54731708],\n",
       "       [ 0.42177028],\n",
       "       [-0.84293971],\n",
       "       [-1.59709777],\n",
       "       [-0.52237371],\n",
       "       [ 0.1099446 ],\n",
       "       [ 1.11209757],\n",
       "       [ 0.2933683 ],\n",
       "       [ 0.62256441],\n",
       "       [ 0.88830146],\n",
       "       [ 0.13327169],\n",
       "       [ 0.60660089],\n",
       "       [ 1.03441858],\n",
       "       [-1.2644213 ],\n",
       "       [-0.82419847],\n",
       "       [ 0.03519876],\n",
       "       [ 1.21433218],\n",
       "       [-0.09988961],\n",
       "       [ 0.09859587],\n",
       "       [-0.2081939 ],\n",
       "       [-0.89496698],\n",
       "       [ 1.33134257],\n",
       "       [ 0.01954813],\n",
       "       [ 0.82678818],\n",
       "       [-0.10901292],\n",
       "       [ 0.83532539],\n",
       "       [ 1.5035519 ],\n",
       "       [-0.27324458],\n",
       "       [-0.85300979],\n",
       "       [ 0.54312563],\n",
       "       [-0.98907091],\n",
       "       [ 0.21771836],\n",
       "       [-0.57557093],\n",
       "       [-1.39311876],\n",
       "       [ 1.26001281],\n",
       "       [-1.46311134],\n",
       "       [ 0.186578  ],\n",
       "       [ 0.72847999],\n",
       "       [-0.97207001],\n",
       "       [-0.36526039],\n",
       "       [ 0.3712713 ],\n",
       "       [ 0.38829901],\n",
       "       [ 0.23037607],\n",
       "       [ 1.14337222],\n",
       "       [-0.56178788],\n",
       "       [-0.74007843],\n",
       "       [-0.22677065],\n",
       "       [-1.06032116],\n",
       "       [ 1.42509927],\n",
       "       [-1.98984973],\n",
       "       [ 0.20656079],\n",
       "       [ 2.0822803 ],\n",
       "       [-0.82258979],\n",
       "       [ 0.13405584],\n",
       "       [-0.46396857],\n",
       "       [-1.89652104],\n",
       "       [ 0.15306054],\n",
       "       [ 1.48876683],\n",
       "       [-0.06409045],\n",
       "       [ 0.30004165],\n",
       "       [ 2.02368177],\n",
       "       [-1.81788943],\n",
       "       [ 0.3036201 ],\n",
       "       [-0.28317558],\n",
       "       [ 0.96643007],\n",
       "       [-1.04014923],\n",
       "       [ 0.49547764],\n",
       "       [-0.55700529],\n",
       "       [ 0.82649542],\n",
       "       [-0.47769103],\n",
       "       [ 0.04341972],\n",
       "       [ 0.21913208],\n",
       "       [-0.82640944],\n",
       "       [ 1.131585  ],\n",
       "       [ 1.08216111],\n",
       "       [-0.7064184 ],\n",
       "       [ 1.10534416],\n",
       "       [ 1.29164311],\n",
       "       [ 0.64541224],\n",
       "       [ 0.31379513],\n",
       "       [ 0.89571531],\n",
       "       [ 0.05664943],\n",
       "       [ 1.66690601],\n",
       "       [-0.93623878],\n",
       "       [ 2.66827386],\n",
       "       [ 0.76205196],\n",
       "       [-1.16710632],\n",
       "       [-0.52040949],\n",
       "       [-1.76531206],\n",
       "       [-0.30182718],\n",
       "       [-0.23969985],\n",
       "       [-0.32020945],\n",
       "       [ 0.15449862],\n",
       "       [-0.13148378],\n",
       "       [-0.30627931],\n",
       "       [-0.20695157],\n",
       "       [-0.15520354],\n",
       "       [ 1.69730936],\n",
       "       [-0.06111095],\n",
       "       [ 0.00500892],\n",
       "       [ 0.67115716],\n",
       "       [-1.20292104],\n",
       "       [-0.3408628 ],\n",
       "       [ 0.32913014],\n",
       "       [-0.96636189],\n",
       "       [ 1.17871204],\n",
       "       [-0.9092121 ],\n",
       "       [ 1.31341989],\n",
       "       [ 0.08939923],\n",
       "       [ 1.92005342],\n",
       "       [-2.47257088],\n",
       "       [ 2.19103485],\n",
       "       [-1.49192494],\n",
       "       [ 1.21909574],\n",
       "       [ 0.68075139],\n",
       "       [ 0.62439963],\n",
       "       [-0.06743535],\n",
       "       [-0.08346171],\n",
       "       [ 0.66060771],\n",
       "       [ 0.84506195],\n",
       "       [-0.85945086],\n",
       "       [-0.00992786],\n",
       "       [-0.3670423 ],\n",
       "       [-0.29649338],\n",
       "       [-0.6270096 ],\n",
       "       [-0.04076501],\n",
       "       [ 1.13533998],\n",
       "       [-0.36934648],\n",
       "       [ 0.07827302],\n",
       "       [-0.73419276],\n",
       "       [ 0.0290729 ],\n",
       "       [-0.98376807],\n",
       "       [ 0.3156197 ],\n",
       "       [-0.74333947],\n",
       "       [-2.05103046],\n",
       "       [ 0.4647429 ],\n",
       "       [ 0.05432339],\n",
       "       [ 0.09302921],\n",
       "       [ 0.05231649],\n",
       "       [ 0.82713835],\n",
       "       [-1.315503  ],\n",
       "       [ 1.40619657],\n",
       "       [-0.80359704],\n",
       "       [ 0.15040109],\n",
       "       [ 0.64723138],\n",
       "       [-0.76769446],\n",
       "       [ 1.70885999],\n",
       "       [ 1.61238355],\n",
       "       [ 1.64538473],\n",
       "       [ 1.6374766 ],\n",
       "       [-1.54522896],\n",
       "       [ 0.37963933],\n",
       "       [ 0.43712849],\n",
       "       [ 1.43679511],\n",
       "       [-1.44927131],\n",
       "       [ 0.01032439],\n",
       "       [ 0.19748556],\n",
       "       [ 1.0806736 ],\n",
       "       [-0.88077295],\n",
       "       [ 0.28257323],\n",
       "       [ 2.19587943],\n",
       "       [-1.02622329],\n",
       "       [ 0.27039699],\n",
       "       [ 0.259559  ],\n",
       "       [ 1.23498516],\n",
       "       [-0.98406338],\n",
       "       [ 0.96663783],\n",
       "       [ 0.40527549],\n",
       "       [ 0.51196142],\n",
       "       [-0.45340932],\n",
       "       [ 1.09888387],\n",
       "       [-0.2974759 ],\n",
       "       [ 0.61923142],\n",
       "       [-0.27556301],\n",
       "       [ 0.50745665]])"
      ]
     },
     "execution_count": 25,
     "metadata": {},
     "output_type": "execute_result"
    }
   ],
   "source": [
    "pred= pipe.predict(x_test)\n",
    "pred"
   ]
  },
  {
   "cell_type": "code",
   "execution_count": 26,
   "id": "5dbc8889",
   "metadata": {
    "execution": {
     "iopub.execute_input": "2022-03-14T13:07:35.330896Z",
     "iopub.status.busy": "2022-03-14T13:07:35.329935Z",
     "iopub.status.idle": "2022-03-14T13:07:35.337233Z",
     "shell.execute_reply": "2022-03-14T13:07:35.337759Z",
     "shell.execute_reply.started": "2022-03-14T13:03:54.557601Z"
    },
    "papermill": {
     "duration": 0.059509,
     "end_time": "2022-03-14T13:07:35.337911",
     "exception": false,
     "start_time": "2022-03-14T13:07:35.278402",
     "status": "completed"
    },
    "tags": []
   },
   "outputs": [
    {
     "data": {
      "text/plain": [
       "0.12289852222396443"
      ]
     },
     "execution_count": 26,
     "metadata": {},
     "output_type": "execute_result"
    }
   ],
   "source": [
    "from sklearn.metrics import mean_squared_error\n",
    "mean_squared_error(pred,y_test)"
   ]
  },
  {
   "cell_type": "code",
   "execution_count": 27,
   "id": "bc69a59f",
   "metadata": {
    "execution": {
     "iopub.execute_input": "2022-03-14T13:07:35.440987Z",
     "iopub.status.busy": "2022-03-14T13:07:35.437581Z",
     "iopub.status.idle": "2022-03-14T13:07:35.443894Z",
     "shell.execute_reply": "2022-03-14T13:07:35.444298Z",
     "shell.execute_reply.started": "2022-03-14T13:03:54.568396Z"
    },
    "papermill": {
     "duration": 0.058316,
     "end_time": "2022-03-14T13:07:35.444469",
     "exception": false,
     "start_time": "2022-03-14T13:07:35.386153",
     "status": "completed"
    },
    "tags": []
   },
   "outputs": [
    {
     "data": {
      "text/plain": [
       "array([[-0.08868883, -0.01484672, -0.07994214, -0.07612248,  0.25960017,\n",
       "         0.02547331, -0.12097891,  0.07402387, -0.19236229,  0.09093226,\n",
       "         0.12291176, -0.09733011,  0.09733011,  0.86123008,  0.23753886,\n",
       "         0.16851331,  0.81796688]])"
      ]
     },
     "execution_count": 27,
     "metadata": {},
     "output_type": "execute_result"
    }
   ],
   "source": [
    "model.coef_"
   ]
  },
  {
   "cell_type": "code",
   "execution_count": 28,
   "id": "df869e18",
   "metadata": {
    "execution": {
     "iopub.execute_input": "2022-03-14T13:07:35.544190Z",
     "iopub.status.busy": "2022-03-14T13:07:35.543612Z",
     "iopub.status.idle": "2022-03-14T13:07:35.547950Z",
     "shell.execute_reply": "2022-03-14T13:07:35.548521Z",
     "shell.execute_reply.started": "2022-03-14T13:03:54.581940Z"
    },
    "papermill": {
     "duration": 0.056268,
     "end_time": "2022-03-14T13:07:35.548721",
     "exception": false,
     "start_time": "2022-03-14T13:07:35.492453",
     "status": "completed"
    },
    "tags": []
   },
   "outputs": [
    {
     "data": {
      "text/plain": [
       "array([-0.5234877])"
      ]
     },
     "execution_count": 28,
     "metadata": {},
     "output_type": "execute_result"
    }
   ],
   "source": [
    "model.intercept_"
   ]
  },
  {
   "cell_type": "code",
   "execution_count": null,
   "id": "39498cba",
   "metadata": {
    "papermill": {
     "duration": 0.0483,
     "end_time": "2022-03-14T13:07:35.646269",
     "exception": false,
     "start_time": "2022-03-14T13:07:35.597969",
     "status": "completed"
    },
    "tags": []
   },
   "outputs": [],
   "source": []
  }
 ],
 "metadata": {
  "kernelspec": {
   "display_name": "Python 3",
   "language": "python",
   "name": "python3"
  },
  "language_info": {
   "codemirror_mode": {
    "name": "ipython",
    "version": 3
   },
   "file_extension": ".py",
   "mimetype": "text/x-python",
   "name": "python",
   "nbconvert_exporter": "python",
   "pygments_lexer": "ipython3",
   "version": "3.7.12"
  },
  "papermill": {
   "default_parameters": {},
   "duration": 15.223167,
   "end_time": "2022-03-14T13:07:36.305071",
   "environment_variables": {},
   "exception": null,
   "input_path": "__notebook__.ipynb",
   "output_path": "__notebook__.ipynb",
   "parameters": {},
   "start_time": "2022-03-14T13:07:21.081904",
   "version": "2.3.3"
  }
 },
 "nbformat": 4,
 "nbformat_minor": 5
}
